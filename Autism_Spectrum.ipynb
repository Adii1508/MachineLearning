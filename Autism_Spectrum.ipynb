{
  "cells": [
    {
      "cell_type": "markdown",
      "metadata": {
        "id": "view-in-github",
        "colab_type": "text"
      },
      "source": [
        "<a href=\"https://colab.research.google.com/github/Adii1508/MachineLearning/blob/main/Autism_Spectrum.ipynb\" target=\"_parent\"><img src=\"https://colab.research.google.com/assets/colab-badge.svg\" alt=\"Open In Colab\"/></a>"
      ]
    },
    {
      "cell_type": "markdown",
      "source": [
        "Information about the data present in the dataset\n"
      ],
      "metadata": {
        "id": "zFcQ7adzYKee"
      }
    },
    {
      "cell_type": "code",
      "execution_count": null,
      "metadata": {
        "colab": {
          "base_uri": "https://localhost:8080/",
          "height": 122
        },
        "id": "u83Caz7EDCix",
        "outputId": "6684e0d6-14d8-441d-c4f1-cbcb5867f16e"
      },
      "outputs": [
        {
          "output_type": "execute_result",
          "data": {
            "text/plain": [
              "'ID - ID of the patient\\nA1_Score to A10_Score - Score based on Autism Spectrum Quotient (AQ) 10 item screening tool\\nage - Age of the patient in years\\ngender - Gender of the patient\\nethnicity - Ethnicity of the patient\\njaundice - Whether the patient had jaundice at the time of birth\\nautism - Whether an immediate family member has been diagnosed with autism\\ncontry_of_res - Country of residence of the patient\\nused_app_before - Whether the patient has undergone a screening test before\\nresult - Score for AQ1-10 screening test\\nage_desc - Age of the patient\\nrelation - Relation of patient who completed the test\\nClass/ASD - Classified result as 0 or 1. Here 0 represents No and 1 represents Yes. This is the target column, and during submission submit the values as 0 or 1 only.'"
            ],
            "application/vnd.google.colaboratory.intrinsic+json": {
              "type": "string"
            }
          },
          "metadata": {},
          "execution_count": 55
        }
      ],
      "source": [
        "'''ID - ID of the patient\n",
        "A1_Score to A10_Score - Score based on Autism Spectrum Quotient (AQ) 10 item screening tool\n",
        "age - Age of the patient in years\n",
        "gender - Gender of the patient\n",
        "ethnicity - Ethnicity of the patient\n",
        "jaundice - Whether the patient had jaundice at the time of birth\n",
        "autism - Whether an immediate family member has been diagnosed with autism\n",
        "contry_of_res - Country of residence of the patient\n",
        "used_app_before - Whether the patient has undergone a screening test before\n",
        "result - Score for AQ1-10 screening test\n",
        "age_desc - Age of the patient\n",
        "relation - Relation of patient who completed the test\n",
        "Class/ASD - Classified result as 0 or 1. Here 0 represents No and 1 represents Yes. This is the target column, and during submission submit the values as 0 or 1 only.'''"
      ]
    },
    {
      "cell_type": "markdown",
      "source": [
        "Importing the Dataset"
      ],
      "metadata": {
        "id": "yN5zTQ2jYJJE"
      }
    },
    {
      "cell_type": "code",
      "execution_count": null,
      "metadata": {
        "id": "ZxpO0MBsWbqq"
      },
      "outputs": [],
      "source": [
        "import pandas as pd"
      ]
    },
    {
      "cell_type": "code",
      "execution_count": null,
      "metadata": {
        "id": "5wtFA3UVWwat"
      },
      "outputs": [],
      "source": [
        "from scipy.io import arff"
      ]
    },
    {
      "cell_type": "code",
      "execution_count": null,
      "metadata": {
        "id": "xurzvT-LW_5n"
      },
      "outputs": [],
      "source": [
        "maldata = arff.loadarff('/content/Autism-Child-Data.arff')"
      ]
    },
    {
      "cell_type": "code",
      "execution_count": null,
      "metadata": {
        "id": "Ds7G-E35X6Yd"
      },
      "outputs": [],
      "source": [
        "df = pd.DataFrame(maldata[0])"
      ]
    },
    {
      "cell_type": "code",
      "execution_count": null,
      "metadata": {
        "colab": {
          "base_uri": "https://localhost:8080/",
          "height": 386
        },
        "id": "17qxN7c6W8z7",
        "outputId": "0d0d940c-8ecc-4e06-f59b-c867f7652253"
      },
      "outputs": [
        {
          "output_type": "execute_result",
          "data": {
            "text/plain": [
              "  A1_Score A2_Score A3_Score A4_Score A5_Score A6_Score A7_Score A8_Score  \\\n",
              "0     b'1'     b'1'     b'0'     b'0'     b'1'     b'1'     b'0'     b'1'   \n",
              "1     b'1'     b'1'     b'0'     b'0'     b'1'     b'1'     b'0'     b'1'   \n",
              "2     b'1'     b'1'     b'0'     b'0'     b'0'     b'1'     b'1'     b'1'   \n",
              "3     b'0'     b'1'     b'0'     b'0'     b'1'     b'1'     b'0'     b'0'   \n",
              "4     b'1'     b'1'     b'1'     b'1'     b'1'     b'1'     b'1'     b'1'   \n",
              "\n",
              "  A9_Score A10_Score  ...  gender           ethnicity jundice austim  \\\n",
              "0     b'0'      b'0'  ...    b'm'           b'Others'   b'no'  b'no'   \n",
              "1     b'0'      b'0'  ...    b'm'  b'Middle Eastern '   b'no'  b'no'   \n",
              "2     b'0'      b'0'  ...    b'm'                b'?'   b'no'  b'no'   \n",
              "3     b'0'      b'1'  ...    b'f'                b'?'  b'yes'  b'no'   \n",
              "4     b'1'      b'1'  ...    b'm'           b'Others'  b'yes'  b'no'   \n",
              "\n",
              "      contry_of_res used_app_before result       age_desc   relation Class/ASD  \n",
              "0         b'Jordan'           b'no'    5.0  b'4-11 years'  b'Parent'     b'NO'  \n",
              "1         b'Jordan'           b'no'    5.0  b'4-11 years'  b'Parent'     b'NO'  \n",
              "2         b'Jordan'          b'yes'    5.0  b'4-11 years'       b'?'     b'NO'  \n",
              "3         b'Jordan'           b'no'    4.0  b'4-11 years'       b'?'     b'NO'  \n",
              "4  b'United States'           b'no'   10.0  b'4-11 years'  b'Parent'    b'YES'  \n",
              "\n",
              "[5 rows x 21 columns]"
            ],
            "text/html": [
              "\n",
              "  <div id=\"df-d905559b-765a-410b-9bbb-74d066f9eb4a\">\n",
              "    <div class=\"colab-df-container\">\n",
              "      <div>\n",
              "<style scoped>\n",
              "    .dataframe tbody tr th:only-of-type {\n",
              "        vertical-align: middle;\n",
              "    }\n",
              "\n",
              "    .dataframe tbody tr th {\n",
              "        vertical-align: top;\n",
              "    }\n",
              "\n",
              "    .dataframe thead th {\n",
              "        text-align: right;\n",
              "    }\n",
              "</style>\n",
              "<table border=\"1\" class=\"dataframe\">\n",
              "  <thead>\n",
              "    <tr style=\"text-align: right;\">\n",
              "      <th></th>\n",
              "      <th>A1_Score</th>\n",
              "      <th>A2_Score</th>\n",
              "      <th>A3_Score</th>\n",
              "      <th>A4_Score</th>\n",
              "      <th>A5_Score</th>\n",
              "      <th>A6_Score</th>\n",
              "      <th>A7_Score</th>\n",
              "      <th>A8_Score</th>\n",
              "      <th>A9_Score</th>\n",
              "      <th>A10_Score</th>\n",
              "      <th>...</th>\n",
              "      <th>gender</th>\n",
              "      <th>ethnicity</th>\n",
              "      <th>jundice</th>\n",
              "      <th>austim</th>\n",
              "      <th>contry_of_res</th>\n",
              "      <th>used_app_before</th>\n",
              "      <th>result</th>\n",
              "      <th>age_desc</th>\n",
              "      <th>relation</th>\n",
              "      <th>Class/ASD</th>\n",
              "    </tr>\n",
              "  </thead>\n",
              "  <tbody>\n",
              "    <tr>\n",
              "      <th>0</th>\n",
              "      <td>b'1'</td>\n",
              "      <td>b'1'</td>\n",
              "      <td>b'0'</td>\n",
              "      <td>b'0'</td>\n",
              "      <td>b'1'</td>\n",
              "      <td>b'1'</td>\n",
              "      <td>b'0'</td>\n",
              "      <td>b'1'</td>\n",
              "      <td>b'0'</td>\n",
              "      <td>b'0'</td>\n",
              "      <td>...</td>\n",
              "      <td>b'm'</td>\n",
              "      <td>b'Others'</td>\n",
              "      <td>b'no'</td>\n",
              "      <td>b'no'</td>\n",
              "      <td>b'Jordan'</td>\n",
              "      <td>b'no'</td>\n",
              "      <td>5.0</td>\n",
              "      <td>b'4-11 years'</td>\n",
              "      <td>b'Parent'</td>\n",
              "      <td>b'NO'</td>\n",
              "    </tr>\n",
              "    <tr>\n",
              "      <th>1</th>\n",
              "      <td>b'1'</td>\n",
              "      <td>b'1'</td>\n",
              "      <td>b'0'</td>\n",
              "      <td>b'0'</td>\n",
              "      <td>b'1'</td>\n",
              "      <td>b'1'</td>\n",
              "      <td>b'0'</td>\n",
              "      <td>b'1'</td>\n",
              "      <td>b'0'</td>\n",
              "      <td>b'0'</td>\n",
              "      <td>...</td>\n",
              "      <td>b'm'</td>\n",
              "      <td>b'Middle Eastern '</td>\n",
              "      <td>b'no'</td>\n",
              "      <td>b'no'</td>\n",
              "      <td>b'Jordan'</td>\n",
              "      <td>b'no'</td>\n",
              "      <td>5.0</td>\n",
              "      <td>b'4-11 years'</td>\n",
              "      <td>b'Parent'</td>\n",
              "      <td>b'NO'</td>\n",
              "    </tr>\n",
              "    <tr>\n",
              "      <th>2</th>\n",
              "      <td>b'1'</td>\n",
              "      <td>b'1'</td>\n",
              "      <td>b'0'</td>\n",
              "      <td>b'0'</td>\n",
              "      <td>b'0'</td>\n",
              "      <td>b'1'</td>\n",
              "      <td>b'1'</td>\n",
              "      <td>b'1'</td>\n",
              "      <td>b'0'</td>\n",
              "      <td>b'0'</td>\n",
              "      <td>...</td>\n",
              "      <td>b'm'</td>\n",
              "      <td>b'?'</td>\n",
              "      <td>b'no'</td>\n",
              "      <td>b'no'</td>\n",
              "      <td>b'Jordan'</td>\n",
              "      <td>b'yes'</td>\n",
              "      <td>5.0</td>\n",
              "      <td>b'4-11 years'</td>\n",
              "      <td>b'?'</td>\n",
              "      <td>b'NO'</td>\n",
              "    </tr>\n",
              "    <tr>\n",
              "      <th>3</th>\n",
              "      <td>b'0'</td>\n",
              "      <td>b'1'</td>\n",
              "      <td>b'0'</td>\n",
              "      <td>b'0'</td>\n",
              "      <td>b'1'</td>\n",
              "      <td>b'1'</td>\n",
              "      <td>b'0'</td>\n",
              "      <td>b'0'</td>\n",
              "      <td>b'0'</td>\n",
              "      <td>b'1'</td>\n",
              "      <td>...</td>\n",
              "      <td>b'f'</td>\n",
              "      <td>b'?'</td>\n",
              "      <td>b'yes'</td>\n",
              "      <td>b'no'</td>\n",
              "      <td>b'Jordan'</td>\n",
              "      <td>b'no'</td>\n",
              "      <td>4.0</td>\n",
              "      <td>b'4-11 years'</td>\n",
              "      <td>b'?'</td>\n",
              "      <td>b'NO'</td>\n",
              "    </tr>\n",
              "    <tr>\n",
              "      <th>4</th>\n",
              "      <td>b'1'</td>\n",
              "      <td>b'1'</td>\n",
              "      <td>b'1'</td>\n",
              "      <td>b'1'</td>\n",
              "      <td>b'1'</td>\n",
              "      <td>b'1'</td>\n",
              "      <td>b'1'</td>\n",
              "      <td>b'1'</td>\n",
              "      <td>b'1'</td>\n",
              "      <td>b'1'</td>\n",
              "      <td>...</td>\n",
              "      <td>b'm'</td>\n",
              "      <td>b'Others'</td>\n",
              "      <td>b'yes'</td>\n",
              "      <td>b'no'</td>\n",
              "      <td>b'United States'</td>\n",
              "      <td>b'no'</td>\n",
              "      <td>10.0</td>\n",
              "      <td>b'4-11 years'</td>\n",
              "      <td>b'Parent'</td>\n",
              "      <td>b'YES'</td>\n",
              "    </tr>\n",
              "  </tbody>\n",
              "</table>\n",
              "<p>5 rows × 21 columns</p>\n",
              "</div>\n",
              "      <button class=\"colab-df-convert\" onclick=\"convertToInteractive('df-d905559b-765a-410b-9bbb-74d066f9eb4a')\"\n",
              "              title=\"Convert this dataframe to an interactive table.\"\n",
              "              style=\"display:none;\">\n",
              "        \n",
              "  <svg xmlns=\"http://www.w3.org/2000/svg\" height=\"24px\"viewBox=\"0 0 24 24\"\n",
              "       width=\"24px\">\n",
              "    <path d=\"M0 0h24v24H0V0z\" fill=\"none\"/>\n",
              "    <path d=\"M18.56 5.44l.94 2.06.94-2.06 2.06-.94-2.06-.94-.94-2.06-.94 2.06-2.06.94zm-11 1L8.5 8.5l.94-2.06 2.06-.94-2.06-.94L8.5 2.5l-.94 2.06-2.06.94zm10 10l.94 2.06.94-2.06 2.06-.94-2.06-.94-.94-2.06-.94 2.06-2.06.94z\"/><path d=\"M17.41 7.96l-1.37-1.37c-.4-.4-.92-.59-1.43-.59-.52 0-1.04.2-1.43.59L10.3 9.45l-7.72 7.72c-.78.78-.78 2.05 0 2.83L4 21.41c.39.39.9.59 1.41.59.51 0 1.02-.2 1.41-.59l7.78-7.78 2.81-2.81c.8-.78.8-2.07 0-2.86zM5.41 20L4 18.59l7.72-7.72 1.47 1.35L5.41 20z\"/>\n",
              "  </svg>\n",
              "      </button>\n",
              "      \n",
              "  <style>\n",
              "    .colab-df-container {\n",
              "      display:flex;\n",
              "      flex-wrap:wrap;\n",
              "      gap: 12px;\n",
              "    }\n",
              "\n",
              "    .colab-df-convert {\n",
              "      background-color: #E8F0FE;\n",
              "      border: none;\n",
              "      border-radius: 50%;\n",
              "      cursor: pointer;\n",
              "      display: none;\n",
              "      fill: #1967D2;\n",
              "      height: 32px;\n",
              "      padding: 0 0 0 0;\n",
              "      width: 32px;\n",
              "    }\n",
              "\n",
              "    .colab-df-convert:hover {\n",
              "      background-color: #E2EBFA;\n",
              "      box-shadow: 0px 1px 2px rgba(60, 64, 67, 0.3), 0px 1px 3px 1px rgba(60, 64, 67, 0.15);\n",
              "      fill: #174EA6;\n",
              "    }\n",
              "\n",
              "    [theme=dark] .colab-df-convert {\n",
              "      background-color: #3B4455;\n",
              "      fill: #D2E3FC;\n",
              "    }\n",
              "\n",
              "    [theme=dark] .colab-df-convert:hover {\n",
              "      background-color: #434B5C;\n",
              "      box-shadow: 0px 1px 3px 1px rgba(0, 0, 0, 0.15);\n",
              "      filter: drop-shadow(0px 1px 2px rgba(0, 0, 0, 0.3));\n",
              "      fill: #FFFFFF;\n",
              "    }\n",
              "  </style>\n",
              "\n",
              "      <script>\n",
              "        const buttonEl =\n",
              "          document.querySelector('#df-d905559b-765a-410b-9bbb-74d066f9eb4a button.colab-df-convert');\n",
              "        buttonEl.style.display =\n",
              "          google.colab.kernel.accessAllowed ? 'block' : 'none';\n",
              "\n",
              "        async function convertToInteractive(key) {\n",
              "          const element = document.querySelector('#df-d905559b-765a-410b-9bbb-74d066f9eb4a');\n",
              "          const dataTable =\n",
              "            await google.colab.kernel.invokeFunction('convertToInteractive',\n",
              "                                                     [key], {});\n",
              "          if (!dataTable) return;\n",
              "\n",
              "          const docLinkHtml = 'Like what you see? Visit the ' +\n",
              "            '<a target=\"_blank\" href=https://colab.research.google.com/notebooks/data_table.ipynb>data table notebook</a>'\n",
              "            + ' to learn more about interactive tables.';\n",
              "          element.innerHTML = '';\n",
              "          dataTable['output_type'] = 'display_data';\n",
              "          await google.colab.output.renderOutput(dataTable, element);\n",
              "          const docLink = document.createElement('div');\n",
              "          docLink.innerHTML = docLinkHtml;\n",
              "          element.appendChild(docLink);\n",
              "        }\n",
              "      </script>\n",
              "    </div>\n",
              "  </div>\n",
              "  "
            ]
          },
          "metadata": {},
          "execution_count": 60
        }
      ],
      "source": [
        "df.head()"
      ]
    },
    {
      "cell_type": "code",
      "execution_count": null,
      "metadata": {
        "colab": {
          "base_uri": "https://localhost:8080/",
          "height": 300
        },
        "id": "BJI1QHHxe8La",
        "outputId": "b3f61f20-2a0d-43e8-db57-ab0a3a2f5d00"
      },
      "outputs": [
        {
          "output_type": "execute_result",
          "data": {
            "text/plain": [
              "              age      result\n",
              "count  288.000000  292.000000\n",
              "mean     6.354167    6.239726\n",
              "std      2.365456    2.284882\n",
              "min      4.000000    0.000000\n",
              "25%      4.000000    5.000000\n",
              "50%      6.000000    6.000000\n",
              "75%      8.000000    8.000000\n",
              "max     11.000000   10.000000"
            ],
            "text/html": [
              "\n",
              "  <div id=\"df-67846f27-2647-485e-8a35-671467ca6aae\">\n",
              "    <div class=\"colab-df-container\">\n",
              "      <div>\n",
              "<style scoped>\n",
              "    .dataframe tbody tr th:only-of-type {\n",
              "        vertical-align: middle;\n",
              "    }\n",
              "\n",
              "    .dataframe tbody tr th {\n",
              "        vertical-align: top;\n",
              "    }\n",
              "\n",
              "    .dataframe thead th {\n",
              "        text-align: right;\n",
              "    }\n",
              "</style>\n",
              "<table border=\"1\" class=\"dataframe\">\n",
              "  <thead>\n",
              "    <tr style=\"text-align: right;\">\n",
              "      <th></th>\n",
              "      <th>age</th>\n",
              "      <th>result</th>\n",
              "    </tr>\n",
              "  </thead>\n",
              "  <tbody>\n",
              "    <tr>\n",
              "      <th>count</th>\n",
              "      <td>288.000000</td>\n",
              "      <td>292.000000</td>\n",
              "    </tr>\n",
              "    <tr>\n",
              "      <th>mean</th>\n",
              "      <td>6.354167</td>\n",
              "      <td>6.239726</td>\n",
              "    </tr>\n",
              "    <tr>\n",
              "      <th>std</th>\n",
              "      <td>2.365456</td>\n",
              "      <td>2.284882</td>\n",
              "    </tr>\n",
              "    <tr>\n",
              "      <th>min</th>\n",
              "      <td>4.000000</td>\n",
              "      <td>0.000000</td>\n",
              "    </tr>\n",
              "    <tr>\n",
              "      <th>25%</th>\n",
              "      <td>4.000000</td>\n",
              "      <td>5.000000</td>\n",
              "    </tr>\n",
              "    <tr>\n",
              "      <th>50%</th>\n",
              "      <td>6.000000</td>\n",
              "      <td>6.000000</td>\n",
              "    </tr>\n",
              "    <tr>\n",
              "      <th>75%</th>\n",
              "      <td>8.000000</td>\n",
              "      <td>8.000000</td>\n",
              "    </tr>\n",
              "    <tr>\n",
              "      <th>max</th>\n",
              "      <td>11.000000</td>\n",
              "      <td>10.000000</td>\n",
              "    </tr>\n",
              "  </tbody>\n",
              "</table>\n",
              "</div>\n",
              "      <button class=\"colab-df-convert\" onclick=\"convertToInteractive('df-67846f27-2647-485e-8a35-671467ca6aae')\"\n",
              "              title=\"Convert this dataframe to an interactive table.\"\n",
              "              style=\"display:none;\">\n",
              "        \n",
              "  <svg xmlns=\"http://www.w3.org/2000/svg\" height=\"24px\"viewBox=\"0 0 24 24\"\n",
              "       width=\"24px\">\n",
              "    <path d=\"M0 0h24v24H0V0z\" fill=\"none\"/>\n",
              "    <path d=\"M18.56 5.44l.94 2.06.94-2.06 2.06-.94-2.06-.94-.94-2.06-.94 2.06-2.06.94zm-11 1L8.5 8.5l.94-2.06 2.06-.94-2.06-.94L8.5 2.5l-.94 2.06-2.06.94zm10 10l.94 2.06.94-2.06 2.06-.94-2.06-.94-.94-2.06-.94 2.06-2.06.94z\"/><path d=\"M17.41 7.96l-1.37-1.37c-.4-.4-.92-.59-1.43-.59-.52 0-1.04.2-1.43.59L10.3 9.45l-7.72 7.72c-.78.78-.78 2.05 0 2.83L4 21.41c.39.39.9.59 1.41.59.51 0 1.02-.2 1.41-.59l7.78-7.78 2.81-2.81c.8-.78.8-2.07 0-2.86zM5.41 20L4 18.59l7.72-7.72 1.47 1.35L5.41 20z\"/>\n",
              "  </svg>\n",
              "      </button>\n",
              "      \n",
              "  <style>\n",
              "    .colab-df-container {\n",
              "      display:flex;\n",
              "      flex-wrap:wrap;\n",
              "      gap: 12px;\n",
              "    }\n",
              "\n",
              "    .colab-df-convert {\n",
              "      background-color: #E8F0FE;\n",
              "      border: none;\n",
              "      border-radius: 50%;\n",
              "      cursor: pointer;\n",
              "      display: none;\n",
              "      fill: #1967D2;\n",
              "      height: 32px;\n",
              "      padding: 0 0 0 0;\n",
              "      width: 32px;\n",
              "    }\n",
              "\n",
              "    .colab-df-convert:hover {\n",
              "      background-color: #E2EBFA;\n",
              "      box-shadow: 0px 1px 2px rgba(60, 64, 67, 0.3), 0px 1px 3px 1px rgba(60, 64, 67, 0.15);\n",
              "      fill: #174EA6;\n",
              "    }\n",
              "\n",
              "    [theme=dark] .colab-df-convert {\n",
              "      background-color: #3B4455;\n",
              "      fill: #D2E3FC;\n",
              "    }\n",
              "\n",
              "    [theme=dark] .colab-df-convert:hover {\n",
              "      background-color: #434B5C;\n",
              "      box-shadow: 0px 1px 3px 1px rgba(0, 0, 0, 0.15);\n",
              "      filter: drop-shadow(0px 1px 2px rgba(0, 0, 0, 0.3));\n",
              "      fill: #FFFFFF;\n",
              "    }\n",
              "  </style>\n",
              "\n",
              "      <script>\n",
              "        const buttonEl =\n",
              "          document.querySelector('#df-67846f27-2647-485e-8a35-671467ca6aae button.colab-df-convert');\n",
              "        buttonEl.style.display =\n",
              "          google.colab.kernel.accessAllowed ? 'block' : 'none';\n",
              "\n",
              "        async function convertToInteractive(key) {\n",
              "          const element = document.querySelector('#df-67846f27-2647-485e-8a35-671467ca6aae');\n",
              "          const dataTable =\n",
              "            await google.colab.kernel.invokeFunction('convertToInteractive',\n",
              "                                                     [key], {});\n",
              "          if (!dataTable) return;\n",
              "\n",
              "          const docLinkHtml = 'Like what you see? Visit the ' +\n",
              "            '<a target=\"_blank\" href=https://colab.research.google.com/notebooks/data_table.ipynb>data table notebook</a>'\n",
              "            + ' to learn more about interactive tables.';\n",
              "          element.innerHTML = '';\n",
              "          dataTable['output_type'] = 'display_data';\n",
              "          await google.colab.output.renderOutput(dataTable, element);\n",
              "          const docLink = document.createElement('div');\n",
              "          docLink.innerHTML = docLinkHtml;\n",
              "          element.appendChild(docLink);\n",
              "        }\n",
              "      </script>\n",
              "    </div>\n",
              "  </div>\n",
              "  "
            ]
          },
          "metadata": {},
          "execution_count": 8
        }
      ],
      "source": [
        "df.describe()"
      ]
    },
    {
      "cell_type": "code",
      "execution_count": null,
      "metadata": {
        "colab": {
          "base_uri": "https://localhost:8080/"
        },
        "id": "Ro7V4mlvgOHi",
        "outputId": "6ffbefb2-9f43-4aa3-ee0d-d6fa5a2c8abd"
      },
      "outputs": [
        {
          "output_type": "execute_result",
          "data": {
            "text/plain": [
              "A1_Score           0\n",
              "A2_Score           0\n",
              "A3_Score           0\n",
              "A4_Score           0\n",
              "A5_Score           0\n",
              "A6_Score           0\n",
              "A7_Score           0\n",
              "A8_Score           0\n",
              "A9_Score           0\n",
              "A10_Score          0\n",
              "age                4\n",
              "gender             0\n",
              "ethnicity          0\n",
              "jundice            0\n",
              "austim             0\n",
              "contry_of_res      0\n",
              "used_app_before    0\n",
              "result             0\n",
              "age_desc           0\n",
              "relation           0\n",
              "Class/ASD          0\n",
              "dtype: int64"
            ]
          },
          "metadata": {},
          "execution_count": 61
        }
      ],
      "source": [
        "df.isnull().sum()"
      ]
    },
    {
      "cell_type": "code",
      "execution_count": null,
      "metadata": {
        "colab": {
          "base_uri": "https://localhost:8080/"
        },
        "id": "D4GOJPz1gRq7",
        "outputId": "d4eb9bab-bf05-49c7-802c-411d3f907b48"
      },
      "outputs": [
        {
          "output_type": "execute_result",
          "data": {
            "text/plain": [
              "A1_Score           0\n",
              "A2_Score           0\n",
              "A3_Score           0\n",
              "A4_Score           0\n",
              "A5_Score           0\n",
              "A6_Score           0\n",
              "A7_Score           0\n",
              "A8_Score           0\n",
              "A9_Score           0\n",
              "A10_Score          0\n",
              "age                4\n",
              "gender             0\n",
              "ethnicity          0\n",
              "jundice            0\n",
              "austim             0\n",
              "contry_of_res      0\n",
              "used_app_before    0\n",
              "result             0\n",
              "age_desc           0\n",
              "relation           0\n",
              "Class/ASD          0\n",
              "dtype: int64"
            ]
          },
          "metadata": {},
          "execution_count": 62
        }
      ],
      "source": [
        "# Check missing values\n",
        "df.isnull().sum()"
      ]
    },
    {
      "cell_type": "markdown",
      "source": [
        "Dealing With the Missing Values"
      ],
      "metadata": {
        "id": "1wT6Llb_YaVJ"
      }
    },
    {
      "cell_type": "code",
      "execution_count": null,
      "metadata": {
        "id": "iGK4_CE6gfzb"
      },
      "outputs": [],
      "source": [
        "df.fillna(6.354167,inplace=True)"
      ]
    },
    {
      "cell_type": "code",
      "execution_count": null,
      "metadata": {
        "colab": {
          "base_uri": "https://localhost:8080/"
        },
        "id": "MJovheBph_JT",
        "outputId": "10eb9cbc-86a9-4c11-d564-c1fb0b8b1eb0"
      },
      "outputs": [
        {
          "output_type": "execute_result",
          "data": {
            "text/plain": [
              "A1_Score           0\n",
              "A2_Score           0\n",
              "A3_Score           0\n",
              "A4_Score           0\n",
              "A5_Score           0\n",
              "A6_Score           0\n",
              "A7_Score           0\n",
              "A8_Score           0\n",
              "A9_Score           0\n",
              "A10_Score          0\n",
              "age                0\n",
              "gender             0\n",
              "ethnicity          0\n",
              "jundice            0\n",
              "austim             0\n",
              "contry_of_res      0\n",
              "used_app_before    0\n",
              "result             0\n",
              "age_desc           0\n",
              "relation           0\n",
              "Class/ASD          0\n",
              "dtype: int64"
            ]
          },
          "metadata": {},
          "execution_count": 64
        }
      ],
      "source": [
        "df.isnull().sum()"
      ]
    },
    {
      "cell_type": "code",
      "execution_count": null,
      "metadata": {
        "colab": {
          "base_uri": "https://localhost:8080/",
          "height": 300
        },
        "id": "pS33hONUiy0p",
        "outputId": "b6887894-2eb2-41ae-b699-bedcc6b0a6f5"
      },
      "outputs": [
        {
          "output_type": "execute_result",
          "data": {
            "text/plain": [
              "              age      result\n",
              "count  292.000000  292.000000\n",
              "mean     6.354167    6.239726\n",
              "std      2.349143    2.284882\n",
              "min      4.000000    0.000000\n",
              "25%      4.000000    5.000000\n",
              "50%      6.000000    6.000000\n",
              "75%      8.000000    8.000000\n",
              "max     11.000000   10.000000"
            ],
            "text/html": [
              "\n",
              "  <div id=\"df-e63112b2-edea-49b9-b8b1-7f99517efd31\">\n",
              "    <div class=\"colab-df-container\">\n",
              "      <div>\n",
              "<style scoped>\n",
              "    .dataframe tbody tr th:only-of-type {\n",
              "        vertical-align: middle;\n",
              "    }\n",
              "\n",
              "    .dataframe tbody tr th {\n",
              "        vertical-align: top;\n",
              "    }\n",
              "\n",
              "    .dataframe thead th {\n",
              "        text-align: right;\n",
              "    }\n",
              "</style>\n",
              "<table border=\"1\" class=\"dataframe\">\n",
              "  <thead>\n",
              "    <tr style=\"text-align: right;\">\n",
              "      <th></th>\n",
              "      <th>age</th>\n",
              "      <th>result</th>\n",
              "    </tr>\n",
              "  </thead>\n",
              "  <tbody>\n",
              "    <tr>\n",
              "      <th>count</th>\n",
              "      <td>292.000000</td>\n",
              "      <td>292.000000</td>\n",
              "    </tr>\n",
              "    <tr>\n",
              "      <th>mean</th>\n",
              "      <td>6.354167</td>\n",
              "      <td>6.239726</td>\n",
              "    </tr>\n",
              "    <tr>\n",
              "      <th>std</th>\n",
              "      <td>2.349143</td>\n",
              "      <td>2.284882</td>\n",
              "    </tr>\n",
              "    <tr>\n",
              "      <th>min</th>\n",
              "      <td>4.000000</td>\n",
              "      <td>0.000000</td>\n",
              "    </tr>\n",
              "    <tr>\n",
              "      <th>25%</th>\n",
              "      <td>4.000000</td>\n",
              "      <td>5.000000</td>\n",
              "    </tr>\n",
              "    <tr>\n",
              "      <th>50%</th>\n",
              "      <td>6.000000</td>\n",
              "      <td>6.000000</td>\n",
              "    </tr>\n",
              "    <tr>\n",
              "      <th>75%</th>\n",
              "      <td>8.000000</td>\n",
              "      <td>8.000000</td>\n",
              "    </tr>\n",
              "    <tr>\n",
              "      <th>max</th>\n",
              "      <td>11.000000</td>\n",
              "      <td>10.000000</td>\n",
              "    </tr>\n",
              "  </tbody>\n",
              "</table>\n",
              "</div>\n",
              "      <button class=\"colab-df-convert\" onclick=\"convertToInteractive('df-e63112b2-edea-49b9-b8b1-7f99517efd31')\"\n",
              "              title=\"Convert this dataframe to an interactive table.\"\n",
              "              style=\"display:none;\">\n",
              "        \n",
              "  <svg xmlns=\"http://www.w3.org/2000/svg\" height=\"24px\"viewBox=\"0 0 24 24\"\n",
              "       width=\"24px\">\n",
              "    <path d=\"M0 0h24v24H0V0z\" fill=\"none\"/>\n",
              "    <path d=\"M18.56 5.44l.94 2.06.94-2.06 2.06-.94-2.06-.94-.94-2.06-.94 2.06-2.06.94zm-11 1L8.5 8.5l.94-2.06 2.06-.94-2.06-.94L8.5 2.5l-.94 2.06-2.06.94zm10 10l.94 2.06.94-2.06 2.06-.94-2.06-.94-.94-2.06-.94 2.06-2.06.94z\"/><path d=\"M17.41 7.96l-1.37-1.37c-.4-.4-.92-.59-1.43-.59-.52 0-1.04.2-1.43.59L10.3 9.45l-7.72 7.72c-.78.78-.78 2.05 0 2.83L4 21.41c.39.39.9.59 1.41.59.51 0 1.02-.2 1.41-.59l7.78-7.78 2.81-2.81c.8-.78.8-2.07 0-2.86zM5.41 20L4 18.59l7.72-7.72 1.47 1.35L5.41 20z\"/>\n",
              "  </svg>\n",
              "      </button>\n",
              "      \n",
              "  <style>\n",
              "    .colab-df-container {\n",
              "      display:flex;\n",
              "      flex-wrap:wrap;\n",
              "      gap: 12px;\n",
              "    }\n",
              "\n",
              "    .colab-df-convert {\n",
              "      background-color: #E8F0FE;\n",
              "      border: none;\n",
              "      border-radius: 50%;\n",
              "      cursor: pointer;\n",
              "      display: none;\n",
              "      fill: #1967D2;\n",
              "      height: 32px;\n",
              "      padding: 0 0 0 0;\n",
              "      width: 32px;\n",
              "    }\n",
              "\n",
              "    .colab-df-convert:hover {\n",
              "      background-color: #E2EBFA;\n",
              "      box-shadow: 0px 1px 2px rgba(60, 64, 67, 0.3), 0px 1px 3px 1px rgba(60, 64, 67, 0.15);\n",
              "      fill: #174EA6;\n",
              "    }\n",
              "\n",
              "    [theme=dark] .colab-df-convert {\n",
              "      background-color: #3B4455;\n",
              "      fill: #D2E3FC;\n",
              "    }\n",
              "\n",
              "    [theme=dark] .colab-df-convert:hover {\n",
              "      background-color: #434B5C;\n",
              "      box-shadow: 0px 1px 3px 1px rgba(0, 0, 0, 0.15);\n",
              "      filter: drop-shadow(0px 1px 2px rgba(0, 0, 0, 0.3));\n",
              "      fill: #FFFFFF;\n",
              "    }\n",
              "  </style>\n",
              "\n",
              "      <script>\n",
              "        const buttonEl =\n",
              "          document.querySelector('#df-e63112b2-edea-49b9-b8b1-7f99517efd31 button.colab-df-convert');\n",
              "        buttonEl.style.display =\n",
              "          google.colab.kernel.accessAllowed ? 'block' : 'none';\n",
              "\n",
              "        async function convertToInteractive(key) {\n",
              "          const element = document.querySelector('#df-e63112b2-edea-49b9-b8b1-7f99517efd31');\n",
              "          const dataTable =\n",
              "            await google.colab.kernel.invokeFunction('convertToInteractive',\n",
              "                                                     [key], {});\n",
              "          if (!dataTable) return;\n",
              "\n",
              "          const docLinkHtml = 'Like what you see? Visit the ' +\n",
              "            '<a target=\"_blank\" href=https://colab.research.google.com/notebooks/data_table.ipynb>data table notebook</a>'\n",
              "            + ' to learn more about interactive tables.';\n",
              "          element.innerHTML = '';\n",
              "          dataTable['output_type'] = 'display_data';\n",
              "          await google.colab.output.renderOutput(dataTable, element);\n",
              "          const docLink = document.createElement('div');\n",
              "          docLink.innerHTML = docLinkHtml;\n",
              "          element.appendChild(docLink);\n",
              "        }\n",
              "      </script>\n",
              "    </div>\n",
              "  </div>\n",
              "  "
            ]
          },
          "metadata": {},
          "execution_count": 65
        }
      ],
      "source": [
        "df.describe()"
      ]
    },
    {
      "cell_type": "code",
      "execution_count": null,
      "metadata": {
        "colab": {
          "base_uri": "https://localhost:8080/"
        },
        "id": "s3phuavbjL2i",
        "outputId": "b8ac2f2b-1fb7-4223-a36a-f65879c63d8f"
      },
      "outputs": [
        {
          "output_type": "stream",
          "name": "stdout",
          "text": [
            "<class 'pandas.core.frame.DataFrame'>\n",
            "RangeIndex: 292 entries, 0 to 291\n",
            "Data columns (total 21 columns):\n",
            " #   Column           Non-Null Count  Dtype  \n",
            "---  ------           --------------  -----  \n",
            " 0   A1_Score         292 non-null    object \n",
            " 1   A2_Score         292 non-null    object \n",
            " 2   A3_Score         292 non-null    object \n",
            " 3   A4_Score         292 non-null    object \n",
            " 4   A5_Score         292 non-null    object \n",
            " 5   A6_Score         292 non-null    object \n",
            " 6   A7_Score         292 non-null    object \n",
            " 7   A8_Score         292 non-null    object \n",
            " 8   A9_Score         292 non-null    object \n",
            " 9   A10_Score        292 non-null    object \n",
            " 10  age              292 non-null    float64\n",
            " 11  gender           292 non-null    object \n",
            " 12  ethnicity        292 non-null    object \n",
            " 13  jundice          292 non-null    object \n",
            " 14  austim           292 non-null    object \n",
            " 15  contry_of_res    292 non-null    object \n",
            " 16  used_app_before  292 non-null    object \n",
            " 17  result           292 non-null    float64\n",
            " 18  age_desc         292 non-null    object \n",
            " 19  relation         292 non-null    object \n",
            " 20  Class/ASD        292 non-null    object \n",
            "dtypes: float64(2), object(19)\n",
            "memory usage: 48.0+ KB\n"
          ]
        }
      ],
      "source": [
        "df.info()"
      ]
    },
    {
      "cell_type": "code",
      "execution_count": null,
      "metadata": {
        "id": "T8r9Oa31jNko"
      },
      "outputs": [],
      "source": [
        "x=df.drop(['relation','used_app_before','Class/ASD'],axis = 1)"
      ]
    },
    {
      "cell_type": "code",
      "execution_count": null,
      "metadata": {
        "colab": {
          "base_uri": "https://localhost:8080/"
        },
        "id": "-9G5RGe6IDFG",
        "outputId": "3e0614a1-e2f9-4dbd-900e-8dfb1b8d63a2"
      },
      "outputs": [
        {
          "output_type": "stream",
          "name": "stdout",
          "text": [
            "<class 'pandas.core.frame.DataFrame'>\n",
            "RangeIndex: 292 entries, 0 to 291\n",
            "Data columns (total 21 columns):\n",
            " #   Column           Non-Null Count  Dtype  \n",
            "---  ------           --------------  -----  \n",
            " 0   A1_Score         292 non-null    object \n",
            " 1   A2_Score         292 non-null    object \n",
            " 2   A3_Score         292 non-null    object \n",
            " 3   A4_Score         292 non-null    object \n",
            " 4   A5_Score         292 non-null    object \n",
            " 5   A6_Score         292 non-null    object \n",
            " 6   A7_Score         292 non-null    object \n",
            " 7   A8_Score         292 non-null    object \n",
            " 8   A9_Score         292 non-null    object \n",
            " 9   A10_Score        292 non-null    object \n",
            " 10  age              292 non-null    float64\n",
            " 11  gender           292 non-null    object \n",
            " 12  ethnicity        292 non-null    object \n",
            " 13  jundice          292 non-null    object \n",
            " 14  austim           292 non-null    object \n",
            " 15  contry_of_res    292 non-null    object \n",
            " 16  used_app_before  292 non-null    object \n",
            " 17  result           292 non-null    float64\n",
            " 18  age_desc         292 non-null    object \n",
            " 19  relation         292 non-null    object \n",
            " 20  Class/ASD        292 non-null    object \n",
            "dtypes: float64(2), object(19)\n",
            "memory usage: 48.0+ KB\n"
          ]
        }
      ],
      "source": [
        "df.info()"
      ]
    },
    {
      "cell_type": "code",
      "execution_count": null,
      "metadata": {
        "id": "o2nBOIG0NMN1"
      },
      "outputs": [],
      "source": [
        "import numpy as np"
      ]
    },
    {
      "cell_type": "code",
      "execution_count": null,
      "metadata": {
        "colab": {
          "base_uri": "https://localhost:8080/",
          "height": 386
        },
        "id": "JEBgUzs_N0-X",
        "outputId": "ae15273f-14f6-4594-e503-1a1825ac24a6"
      },
      "outputs": [
        {
          "output_type": "execute_result",
          "data": {
            "text/plain": [
              "  A1_Score A2_Score A3_Score A4_Score A5_Score A6_Score A7_Score A8_Score  \\\n",
              "0     b'1'     b'1'     b'0'     b'0'     b'1'     b'1'     b'0'     b'1'   \n",
              "1     b'1'     b'1'     b'0'     b'0'     b'1'     b'1'     b'0'     b'1'   \n",
              "2     b'1'     b'1'     b'0'     b'0'     b'0'     b'1'     b'1'     b'1'   \n",
              "3     b'0'     b'1'     b'0'     b'0'     b'1'     b'1'     b'0'     b'0'   \n",
              "4     b'1'     b'1'     b'1'     b'1'     b'1'     b'1'     b'1'     b'1'   \n",
              "\n",
              "  A9_Score A10_Score  ...  gender           ethnicity jundice austim  \\\n",
              "0     b'0'      b'0'  ...    b'm'           b'Others'   b'no'  b'no'   \n",
              "1     b'0'      b'0'  ...    b'm'  b'Middle Eastern '   b'no'  b'no'   \n",
              "2     b'0'      b'0'  ...    b'm'                b'?'   b'no'  b'no'   \n",
              "3     b'0'      b'1'  ...    b'f'                b'?'  b'yes'  b'no'   \n",
              "4     b'1'      b'1'  ...    b'm'           b'Others'  b'yes'  b'no'   \n",
              "\n",
              "      contry_of_res used_app_before result       age_desc   relation Class/ASD  \n",
              "0         b'Jordan'           b'no'    5.0  b'4-11 years'  b'Parent'     b'NO'  \n",
              "1         b'Jordan'           b'no'    5.0  b'4-11 years'  b'Parent'     b'NO'  \n",
              "2         b'Jordan'          b'yes'    5.0  b'4-11 years'       b'?'     b'NO'  \n",
              "3         b'Jordan'           b'no'    4.0  b'4-11 years'       b'?'     b'NO'  \n",
              "4  b'United States'           b'no'   10.0  b'4-11 years'  b'Parent'    b'YES'  \n",
              "\n",
              "[5 rows x 21 columns]"
            ],
            "text/html": [
              "\n",
              "  <div id=\"df-fb06c84f-21ad-4ec5-9f5e-d528178baa7b\">\n",
              "    <div class=\"colab-df-container\">\n",
              "      <div>\n",
              "<style scoped>\n",
              "    .dataframe tbody tr th:only-of-type {\n",
              "        vertical-align: middle;\n",
              "    }\n",
              "\n",
              "    .dataframe tbody tr th {\n",
              "        vertical-align: top;\n",
              "    }\n",
              "\n",
              "    .dataframe thead th {\n",
              "        text-align: right;\n",
              "    }\n",
              "</style>\n",
              "<table border=\"1\" class=\"dataframe\">\n",
              "  <thead>\n",
              "    <tr style=\"text-align: right;\">\n",
              "      <th></th>\n",
              "      <th>A1_Score</th>\n",
              "      <th>A2_Score</th>\n",
              "      <th>A3_Score</th>\n",
              "      <th>A4_Score</th>\n",
              "      <th>A5_Score</th>\n",
              "      <th>A6_Score</th>\n",
              "      <th>A7_Score</th>\n",
              "      <th>A8_Score</th>\n",
              "      <th>A9_Score</th>\n",
              "      <th>A10_Score</th>\n",
              "      <th>...</th>\n",
              "      <th>gender</th>\n",
              "      <th>ethnicity</th>\n",
              "      <th>jundice</th>\n",
              "      <th>austim</th>\n",
              "      <th>contry_of_res</th>\n",
              "      <th>used_app_before</th>\n",
              "      <th>result</th>\n",
              "      <th>age_desc</th>\n",
              "      <th>relation</th>\n",
              "      <th>Class/ASD</th>\n",
              "    </tr>\n",
              "  </thead>\n",
              "  <tbody>\n",
              "    <tr>\n",
              "      <th>0</th>\n",
              "      <td>b'1'</td>\n",
              "      <td>b'1'</td>\n",
              "      <td>b'0'</td>\n",
              "      <td>b'0'</td>\n",
              "      <td>b'1'</td>\n",
              "      <td>b'1'</td>\n",
              "      <td>b'0'</td>\n",
              "      <td>b'1'</td>\n",
              "      <td>b'0'</td>\n",
              "      <td>b'0'</td>\n",
              "      <td>...</td>\n",
              "      <td>b'm'</td>\n",
              "      <td>b'Others'</td>\n",
              "      <td>b'no'</td>\n",
              "      <td>b'no'</td>\n",
              "      <td>b'Jordan'</td>\n",
              "      <td>b'no'</td>\n",
              "      <td>5.0</td>\n",
              "      <td>b'4-11 years'</td>\n",
              "      <td>b'Parent'</td>\n",
              "      <td>b'NO'</td>\n",
              "    </tr>\n",
              "    <tr>\n",
              "      <th>1</th>\n",
              "      <td>b'1'</td>\n",
              "      <td>b'1'</td>\n",
              "      <td>b'0'</td>\n",
              "      <td>b'0'</td>\n",
              "      <td>b'1'</td>\n",
              "      <td>b'1'</td>\n",
              "      <td>b'0'</td>\n",
              "      <td>b'1'</td>\n",
              "      <td>b'0'</td>\n",
              "      <td>b'0'</td>\n",
              "      <td>...</td>\n",
              "      <td>b'm'</td>\n",
              "      <td>b'Middle Eastern '</td>\n",
              "      <td>b'no'</td>\n",
              "      <td>b'no'</td>\n",
              "      <td>b'Jordan'</td>\n",
              "      <td>b'no'</td>\n",
              "      <td>5.0</td>\n",
              "      <td>b'4-11 years'</td>\n",
              "      <td>b'Parent'</td>\n",
              "      <td>b'NO'</td>\n",
              "    </tr>\n",
              "    <tr>\n",
              "      <th>2</th>\n",
              "      <td>b'1'</td>\n",
              "      <td>b'1'</td>\n",
              "      <td>b'0'</td>\n",
              "      <td>b'0'</td>\n",
              "      <td>b'0'</td>\n",
              "      <td>b'1'</td>\n",
              "      <td>b'1'</td>\n",
              "      <td>b'1'</td>\n",
              "      <td>b'0'</td>\n",
              "      <td>b'0'</td>\n",
              "      <td>...</td>\n",
              "      <td>b'm'</td>\n",
              "      <td>b'?'</td>\n",
              "      <td>b'no'</td>\n",
              "      <td>b'no'</td>\n",
              "      <td>b'Jordan'</td>\n",
              "      <td>b'yes'</td>\n",
              "      <td>5.0</td>\n",
              "      <td>b'4-11 years'</td>\n",
              "      <td>b'?'</td>\n",
              "      <td>b'NO'</td>\n",
              "    </tr>\n",
              "    <tr>\n",
              "      <th>3</th>\n",
              "      <td>b'0'</td>\n",
              "      <td>b'1'</td>\n",
              "      <td>b'0'</td>\n",
              "      <td>b'0'</td>\n",
              "      <td>b'1'</td>\n",
              "      <td>b'1'</td>\n",
              "      <td>b'0'</td>\n",
              "      <td>b'0'</td>\n",
              "      <td>b'0'</td>\n",
              "      <td>b'1'</td>\n",
              "      <td>...</td>\n",
              "      <td>b'f'</td>\n",
              "      <td>b'?'</td>\n",
              "      <td>b'yes'</td>\n",
              "      <td>b'no'</td>\n",
              "      <td>b'Jordan'</td>\n",
              "      <td>b'no'</td>\n",
              "      <td>4.0</td>\n",
              "      <td>b'4-11 years'</td>\n",
              "      <td>b'?'</td>\n",
              "      <td>b'NO'</td>\n",
              "    </tr>\n",
              "    <tr>\n",
              "      <th>4</th>\n",
              "      <td>b'1'</td>\n",
              "      <td>b'1'</td>\n",
              "      <td>b'1'</td>\n",
              "      <td>b'1'</td>\n",
              "      <td>b'1'</td>\n",
              "      <td>b'1'</td>\n",
              "      <td>b'1'</td>\n",
              "      <td>b'1'</td>\n",
              "      <td>b'1'</td>\n",
              "      <td>b'1'</td>\n",
              "      <td>...</td>\n",
              "      <td>b'm'</td>\n",
              "      <td>b'Others'</td>\n",
              "      <td>b'yes'</td>\n",
              "      <td>b'no'</td>\n",
              "      <td>b'United States'</td>\n",
              "      <td>b'no'</td>\n",
              "      <td>10.0</td>\n",
              "      <td>b'4-11 years'</td>\n",
              "      <td>b'Parent'</td>\n",
              "      <td>b'YES'</td>\n",
              "    </tr>\n",
              "  </tbody>\n",
              "</table>\n",
              "<p>5 rows × 21 columns</p>\n",
              "</div>\n",
              "      <button class=\"colab-df-convert\" onclick=\"convertToInteractive('df-fb06c84f-21ad-4ec5-9f5e-d528178baa7b')\"\n",
              "              title=\"Convert this dataframe to an interactive table.\"\n",
              "              style=\"display:none;\">\n",
              "        \n",
              "  <svg xmlns=\"http://www.w3.org/2000/svg\" height=\"24px\"viewBox=\"0 0 24 24\"\n",
              "       width=\"24px\">\n",
              "    <path d=\"M0 0h24v24H0V0z\" fill=\"none\"/>\n",
              "    <path d=\"M18.56 5.44l.94 2.06.94-2.06 2.06-.94-2.06-.94-.94-2.06-.94 2.06-2.06.94zm-11 1L8.5 8.5l.94-2.06 2.06-.94-2.06-.94L8.5 2.5l-.94 2.06-2.06.94zm10 10l.94 2.06.94-2.06 2.06-.94-2.06-.94-.94-2.06-.94 2.06-2.06.94z\"/><path d=\"M17.41 7.96l-1.37-1.37c-.4-.4-.92-.59-1.43-.59-.52 0-1.04.2-1.43.59L10.3 9.45l-7.72 7.72c-.78.78-.78 2.05 0 2.83L4 21.41c.39.39.9.59 1.41.59.51 0 1.02-.2 1.41-.59l7.78-7.78 2.81-2.81c.8-.78.8-2.07 0-2.86zM5.41 20L4 18.59l7.72-7.72 1.47 1.35L5.41 20z\"/>\n",
              "  </svg>\n",
              "      </button>\n",
              "      \n",
              "  <style>\n",
              "    .colab-df-container {\n",
              "      display:flex;\n",
              "      flex-wrap:wrap;\n",
              "      gap: 12px;\n",
              "    }\n",
              "\n",
              "    .colab-df-convert {\n",
              "      background-color: #E8F0FE;\n",
              "      border: none;\n",
              "      border-radius: 50%;\n",
              "      cursor: pointer;\n",
              "      display: none;\n",
              "      fill: #1967D2;\n",
              "      height: 32px;\n",
              "      padding: 0 0 0 0;\n",
              "      width: 32px;\n",
              "    }\n",
              "\n",
              "    .colab-df-convert:hover {\n",
              "      background-color: #E2EBFA;\n",
              "      box-shadow: 0px 1px 2px rgba(60, 64, 67, 0.3), 0px 1px 3px 1px rgba(60, 64, 67, 0.15);\n",
              "      fill: #174EA6;\n",
              "    }\n",
              "\n",
              "    [theme=dark] .colab-df-convert {\n",
              "      background-color: #3B4455;\n",
              "      fill: #D2E3FC;\n",
              "    }\n",
              "\n",
              "    [theme=dark] .colab-df-convert:hover {\n",
              "      background-color: #434B5C;\n",
              "      box-shadow: 0px 1px 3px 1px rgba(0, 0, 0, 0.15);\n",
              "      filter: drop-shadow(0px 1px 2px rgba(0, 0, 0, 0.3));\n",
              "      fill: #FFFFFF;\n",
              "    }\n",
              "  </style>\n",
              "\n",
              "      <script>\n",
              "        const buttonEl =\n",
              "          document.querySelector('#df-fb06c84f-21ad-4ec5-9f5e-d528178baa7b button.colab-df-convert');\n",
              "        buttonEl.style.display =\n",
              "          google.colab.kernel.accessAllowed ? 'block' : 'none';\n",
              "\n",
              "        async function convertToInteractive(key) {\n",
              "          const element = document.querySelector('#df-fb06c84f-21ad-4ec5-9f5e-d528178baa7b');\n",
              "          const dataTable =\n",
              "            await google.colab.kernel.invokeFunction('convertToInteractive',\n",
              "                                                     [key], {});\n",
              "          if (!dataTable) return;\n",
              "\n",
              "          const docLinkHtml = 'Like what you see? Visit the ' +\n",
              "            '<a target=\"_blank\" href=https://colab.research.google.com/notebooks/data_table.ipynb>data table notebook</a>'\n",
              "            + ' to learn more about interactive tables.';\n",
              "          element.innerHTML = '';\n",
              "          dataTable['output_type'] = 'display_data';\n",
              "          await google.colab.output.renderOutput(dataTable, element);\n",
              "          const docLink = document.createElement('div');\n",
              "          docLink.innerHTML = docLinkHtml;\n",
              "          element.appendChild(docLink);\n",
              "        }\n",
              "      </script>\n",
              "    </div>\n",
              "  </div>\n",
              "  "
            ]
          },
          "metadata": {},
          "execution_count": 19
        }
      ],
      "source": [
        "df.head()"
      ]
    },
    {
      "cell_type": "code",
      "execution_count": null,
      "metadata": {
        "id": "Ft6zeUdkBpUg",
        "colab": {
          "base_uri": "https://localhost:8080/",
          "height": 386
        },
        "outputId": "d90c1eca-d4fd-4d52-bf37-d453227b6279"
      },
      "outputs": [
        {
          "output_type": "execute_result",
          "data": {
            "text/plain": [
              "  A1_Score A2_Score A3_Score A4_Score A5_Score A6_Score A7_Score A8_Score  \\\n",
              "0     b'1'     b'1'     b'0'     b'0'     b'1'     b'1'     b'0'     b'1'   \n",
              "1     b'1'     b'1'     b'0'     b'0'     b'1'     b'1'     b'0'     b'1'   \n",
              "2     b'1'     b'1'     b'0'     b'0'     b'0'     b'1'     b'1'     b'1'   \n",
              "3     b'0'     b'1'     b'0'     b'0'     b'1'     b'1'     b'0'     b'0'   \n",
              "4     b'1'     b'1'     b'1'     b'1'     b'1'     b'1'     b'1'     b'1'   \n",
              "\n",
              "  A9_Score A10_Score  ...  gender           ethnicity jundice austim  \\\n",
              "0     b'0'      b'0'  ...    b'm'           b'Others'   b'no'  b'no'   \n",
              "1     b'0'      b'0'  ...    b'm'  b'Middle Eastern '   b'no'  b'no'   \n",
              "2     b'0'      b'0'  ...    b'm'                b'?'   b'no'  b'no'   \n",
              "3     b'0'      b'1'  ...    b'f'                b'?'  b'yes'  b'no'   \n",
              "4     b'1'      b'1'  ...    b'm'           b'Others'  b'yes'  b'no'   \n",
              "\n",
              "      contry_of_res used_app_before result       age_desc   relation Class/ASD  \n",
              "0         b'Jordan'           b'no'    5.0  b'4-11 years'  b'Parent'     b'NO'  \n",
              "1         b'Jordan'           b'no'    5.0  b'4-11 years'  b'Parent'     b'NO'  \n",
              "2         b'Jordan'          b'yes'    5.0  b'4-11 years'       b'?'     b'NO'  \n",
              "3         b'Jordan'           b'no'    4.0  b'4-11 years'       b'?'     b'NO'  \n",
              "4  b'United States'           b'no'   10.0  b'4-11 years'  b'Parent'    b'YES'  \n",
              "\n",
              "[5 rows x 21 columns]"
            ],
            "text/html": [
              "\n",
              "  <div id=\"df-a1bc3d75-a491-446d-a17e-8244d6e467fd\">\n",
              "    <div class=\"colab-df-container\">\n",
              "      <div>\n",
              "<style scoped>\n",
              "    .dataframe tbody tr th:only-of-type {\n",
              "        vertical-align: middle;\n",
              "    }\n",
              "\n",
              "    .dataframe tbody tr th {\n",
              "        vertical-align: top;\n",
              "    }\n",
              "\n",
              "    .dataframe thead th {\n",
              "        text-align: right;\n",
              "    }\n",
              "</style>\n",
              "<table border=\"1\" class=\"dataframe\">\n",
              "  <thead>\n",
              "    <tr style=\"text-align: right;\">\n",
              "      <th></th>\n",
              "      <th>A1_Score</th>\n",
              "      <th>A2_Score</th>\n",
              "      <th>A3_Score</th>\n",
              "      <th>A4_Score</th>\n",
              "      <th>A5_Score</th>\n",
              "      <th>A6_Score</th>\n",
              "      <th>A7_Score</th>\n",
              "      <th>A8_Score</th>\n",
              "      <th>A9_Score</th>\n",
              "      <th>A10_Score</th>\n",
              "      <th>...</th>\n",
              "      <th>gender</th>\n",
              "      <th>ethnicity</th>\n",
              "      <th>jundice</th>\n",
              "      <th>austim</th>\n",
              "      <th>contry_of_res</th>\n",
              "      <th>used_app_before</th>\n",
              "      <th>result</th>\n",
              "      <th>age_desc</th>\n",
              "      <th>relation</th>\n",
              "      <th>Class/ASD</th>\n",
              "    </tr>\n",
              "  </thead>\n",
              "  <tbody>\n",
              "    <tr>\n",
              "      <th>0</th>\n",
              "      <td>b'1'</td>\n",
              "      <td>b'1'</td>\n",
              "      <td>b'0'</td>\n",
              "      <td>b'0'</td>\n",
              "      <td>b'1'</td>\n",
              "      <td>b'1'</td>\n",
              "      <td>b'0'</td>\n",
              "      <td>b'1'</td>\n",
              "      <td>b'0'</td>\n",
              "      <td>b'0'</td>\n",
              "      <td>...</td>\n",
              "      <td>b'm'</td>\n",
              "      <td>b'Others'</td>\n",
              "      <td>b'no'</td>\n",
              "      <td>b'no'</td>\n",
              "      <td>b'Jordan'</td>\n",
              "      <td>b'no'</td>\n",
              "      <td>5.0</td>\n",
              "      <td>b'4-11 years'</td>\n",
              "      <td>b'Parent'</td>\n",
              "      <td>b'NO'</td>\n",
              "    </tr>\n",
              "    <tr>\n",
              "      <th>1</th>\n",
              "      <td>b'1'</td>\n",
              "      <td>b'1'</td>\n",
              "      <td>b'0'</td>\n",
              "      <td>b'0'</td>\n",
              "      <td>b'1'</td>\n",
              "      <td>b'1'</td>\n",
              "      <td>b'0'</td>\n",
              "      <td>b'1'</td>\n",
              "      <td>b'0'</td>\n",
              "      <td>b'0'</td>\n",
              "      <td>...</td>\n",
              "      <td>b'm'</td>\n",
              "      <td>b'Middle Eastern '</td>\n",
              "      <td>b'no'</td>\n",
              "      <td>b'no'</td>\n",
              "      <td>b'Jordan'</td>\n",
              "      <td>b'no'</td>\n",
              "      <td>5.0</td>\n",
              "      <td>b'4-11 years'</td>\n",
              "      <td>b'Parent'</td>\n",
              "      <td>b'NO'</td>\n",
              "    </tr>\n",
              "    <tr>\n",
              "      <th>2</th>\n",
              "      <td>b'1'</td>\n",
              "      <td>b'1'</td>\n",
              "      <td>b'0'</td>\n",
              "      <td>b'0'</td>\n",
              "      <td>b'0'</td>\n",
              "      <td>b'1'</td>\n",
              "      <td>b'1'</td>\n",
              "      <td>b'1'</td>\n",
              "      <td>b'0'</td>\n",
              "      <td>b'0'</td>\n",
              "      <td>...</td>\n",
              "      <td>b'm'</td>\n",
              "      <td>b'?'</td>\n",
              "      <td>b'no'</td>\n",
              "      <td>b'no'</td>\n",
              "      <td>b'Jordan'</td>\n",
              "      <td>b'yes'</td>\n",
              "      <td>5.0</td>\n",
              "      <td>b'4-11 years'</td>\n",
              "      <td>b'?'</td>\n",
              "      <td>b'NO'</td>\n",
              "    </tr>\n",
              "    <tr>\n",
              "      <th>3</th>\n",
              "      <td>b'0'</td>\n",
              "      <td>b'1'</td>\n",
              "      <td>b'0'</td>\n",
              "      <td>b'0'</td>\n",
              "      <td>b'1'</td>\n",
              "      <td>b'1'</td>\n",
              "      <td>b'0'</td>\n",
              "      <td>b'0'</td>\n",
              "      <td>b'0'</td>\n",
              "      <td>b'1'</td>\n",
              "      <td>...</td>\n",
              "      <td>b'f'</td>\n",
              "      <td>b'?'</td>\n",
              "      <td>b'yes'</td>\n",
              "      <td>b'no'</td>\n",
              "      <td>b'Jordan'</td>\n",
              "      <td>b'no'</td>\n",
              "      <td>4.0</td>\n",
              "      <td>b'4-11 years'</td>\n",
              "      <td>b'?'</td>\n",
              "      <td>b'NO'</td>\n",
              "    </tr>\n",
              "    <tr>\n",
              "      <th>4</th>\n",
              "      <td>b'1'</td>\n",
              "      <td>b'1'</td>\n",
              "      <td>b'1'</td>\n",
              "      <td>b'1'</td>\n",
              "      <td>b'1'</td>\n",
              "      <td>b'1'</td>\n",
              "      <td>b'1'</td>\n",
              "      <td>b'1'</td>\n",
              "      <td>b'1'</td>\n",
              "      <td>b'1'</td>\n",
              "      <td>...</td>\n",
              "      <td>b'm'</td>\n",
              "      <td>b'Others'</td>\n",
              "      <td>b'yes'</td>\n",
              "      <td>b'no'</td>\n",
              "      <td>b'United States'</td>\n",
              "      <td>b'no'</td>\n",
              "      <td>10.0</td>\n",
              "      <td>b'4-11 years'</td>\n",
              "      <td>b'Parent'</td>\n",
              "      <td>b'YES'</td>\n",
              "    </tr>\n",
              "  </tbody>\n",
              "</table>\n",
              "<p>5 rows × 21 columns</p>\n",
              "</div>\n",
              "      <button class=\"colab-df-convert\" onclick=\"convertToInteractive('df-a1bc3d75-a491-446d-a17e-8244d6e467fd')\"\n",
              "              title=\"Convert this dataframe to an interactive table.\"\n",
              "              style=\"display:none;\">\n",
              "        \n",
              "  <svg xmlns=\"http://www.w3.org/2000/svg\" height=\"24px\"viewBox=\"0 0 24 24\"\n",
              "       width=\"24px\">\n",
              "    <path d=\"M0 0h24v24H0V0z\" fill=\"none\"/>\n",
              "    <path d=\"M18.56 5.44l.94 2.06.94-2.06 2.06-.94-2.06-.94-.94-2.06-.94 2.06-2.06.94zm-11 1L8.5 8.5l.94-2.06 2.06-.94-2.06-.94L8.5 2.5l-.94 2.06-2.06.94zm10 10l.94 2.06.94-2.06 2.06-.94-2.06-.94-.94-2.06-.94 2.06-2.06.94z\"/><path d=\"M17.41 7.96l-1.37-1.37c-.4-.4-.92-.59-1.43-.59-.52 0-1.04.2-1.43.59L10.3 9.45l-7.72 7.72c-.78.78-.78 2.05 0 2.83L4 21.41c.39.39.9.59 1.41.59.51 0 1.02-.2 1.41-.59l7.78-7.78 2.81-2.81c.8-.78.8-2.07 0-2.86zM5.41 20L4 18.59l7.72-7.72 1.47 1.35L5.41 20z\"/>\n",
              "  </svg>\n",
              "      </button>\n",
              "      \n",
              "  <style>\n",
              "    .colab-df-container {\n",
              "      display:flex;\n",
              "      flex-wrap:wrap;\n",
              "      gap: 12px;\n",
              "    }\n",
              "\n",
              "    .colab-df-convert {\n",
              "      background-color: #E8F0FE;\n",
              "      border: none;\n",
              "      border-radius: 50%;\n",
              "      cursor: pointer;\n",
              "      display: none;\n",
              "      fill: #1967D2;\n",
              "      height: 32px;\n",
              "      padding: 0 0 0 0;\n",
              "      width: 32px;\n",
              "    }\n",
              "\n",
              "    .colab-df-convert:hover {\n",
              "      background-color: #E2EBFA;\n",
              "      box-shadow: 0px 1px 2px rgba(60, 64, 67, 0.3), 0px 1px 3px 1px rgba(60, 64, 67, 0.15);\n",
              "      fill: #174EA6;\n",
              "    }\n",
              "\n",
              "    [theme=dark] .colab-df-convert {\n",
              "      background-color: #3B4455;\n",
              "      fill: #D2E3FC;\n",
              "    }\n",
              "\n",
              "    [theme=dark] .colab-df-convert:hover {\n",
              "      background-color: #434B5C;\n",
              "      box-shadow: 0px 1px 3px 1px rgba(0, 0, 0, 0.15);\n",
              "      filter: drop-shadow(0px 1px 2px rgba(0, 0, 0, 0.3));\n",
              "      fill: #FFFFFF;\n",
              "    }\n",
              "  </style>\n",
              "\n",
              "      <script>\n",
              "        const buttonEl =\n",
              "          document.querySelector('#df-a1bc3d75-a491-446d-a17e-8244d6e467fd button.colab-df-convert');\n",
              "        buttonEl.style.display =\n",
              "          google.colab.kernel.accessAllowed ? 'block' : 'none';\n",
              "\n",
              "        async function convertToInteractive(key) {\n",
              "          const element = document.querySelector('#df-a1bc3d75-a491-446d-a17e-8244d6e467fd');\n",
              "          const dataTable =\n",
              "            await google.colab.kernel.invokeFunction('convertToInteractive',\n",
              "                                                     [key], {});\n",
              "          if (!dataTable) return;\n",
              "\n",
              "          const docLinkHtml = 'Like what you see? Visit the ' +\n",
              "            '<a target=\"_blank\" href=https://colab.research.google.com/notebooks/data_table.ipynb>data table notebook</a>'\n",
              "            + ' to learn more about interactive tables.';\n",
              "          element.innerHTML = '';\n",
              "          dataTable['output_type'] = 'display_data';\n",
              "          await google.colab.output.renderOutput(dataTable, element);\n",
              "          const docLink = document.createElement('div');\n",
              "          docLink.innerHTML = docLinkHtml;\n",
              "          element.appendChild(docLink);\n",
              "        }\n",
              "      </script>\n",
              "    </div>\n",
              "  </div>\n",
              "  "
            ]
          },
          "metadata": {},
          "execution_count": 82
        }
      ],
      "source": [
        "df.head()"
      ]
    },
    {
      "cell_type": "code",
      "execution_count": null,
      "metadata": {
        "colab": {
          "base_uri": "https://localhost:8080/"
        },
        "id": "ILKa40OeHlQX",
        "outputId": "01f541c5-dcab-46a1-b765-1b5b3e8580d1"
      },
      "outputs": [
        {
          "output_type": "execute_result",
          "data": {
            "text/plain": [
              "(292, 18)"
            ]
          },
          "metadata": {},
          "execution_count": 21
        }
      ],
      "source": [
        "x.shape"
      ]
    },
    {
      "cell_type": "code",
      "execution_count": null,
      "metadata": {
        "id": "V-ufgcvvHrIX"
      },
      "outputs": [],
      "source": [
        "y = df['Class/ASD']"
      ]
    },
    {
      "cell_type": "code",
      "execution_count": null,
      "metadata": {
        "colab": {
          "base_uri": "https://localhost:8080/"
        },
        "id": "xONMYWXhJACH",
        "outputId": "64b2be40-035b-479c-f440-1dca0a20c50a"
      },
      "outputs": [
        {
          "output_type": "stream",
          "name": "stdout",
          "text": [
            "0       b'NO'\n",
            "1       b'NO'\n",
            "2       b'NO'\n",
            "3       b'NO'\n",
            "4      b'YES'\n",
            "        ...  \n",
            "287    b'YES'\n",
            "288     b'NO'\n",
            "289    b'YES'\n",
            "290    b'YES'\n",
            "291     b'NO'\n",
            "Name: Class/ASD, Length: 292, dtype: object\n"
          ]
        }
      ],
      "source": [
        "print(y)"
      ]
    },
    {
      "cell_type": "markdown",
      "source": [
        "LabelEncoding The Data  to get numeric values for string values"
      ],
      "metadata": {
        "id": "lP7LKHYqYj3f"
      }
    },
    {
      "cell_type": "code",
      "execution_count": null,
      "metadata": {
        "id": "1C13dShOJnkk"
      },
      "outputs": [],
      "source": [
        "from sklearn.preprocessing import LabelEncoder"
      ]
    },
    {
      "cell_type": "code",
      "execution_count": null,
      "metadata": {
        "id": "MrifAiUpKNmS"
      },
      "outputs": [],
      "source": [
        "le = LabelEncoder()"
      ]
    },
    {
      "cell_type": "code",
      "execution_count": null,
      "metadata": {
        "id": "05LTUG2_LYAL",
        "colab": {
          "base_uri": "https://localhost:8080/",
          "height": 386
        },
        "outputId": "b65e8bc4-8faf-44c7-d073-0a8d223881dd"
      },
      "outputs": [
        {
          "output_type": "execute_result",
          "data": {
            "text/plain": [
              "  A1_Score A2_Score A3_Score A4_Score A5_Score A6_Score A7_Score A8_Score  \\\n",
              "0     b'1'     b'1'     b'0'     b'0'     b'1'     b'1'     b'0'     b'1'   \n",
              "1     b'1'     b'1'     b'0'     b'0'     b'1'     b'1'     b'0'     b'1'   \n",
              "2     b'1'     b'1'     b'0'     b'0'     b'0'     b'1'     b'1'     b'1'   \n",
              "3     b'0'     b'1'     b'0'     b'0'     b'1'     b'1'     b'0'     b'0'   \n",
              "4     b'1'     b'1'     b'1'     b'1'     b'1'     b'1'     b'1'     b'1'   \n",
              "\n",
              "  A9_Score A10_Score  ...  gender           ethnicity jundice austim  \\\n",
              "0     b'0'      b'0'  ...    b'm'           b'Others'   b'no'  b'no'   \n",
              "1     b'0'      b'0'  ...    b'm'  b'Middle Eastern '   b'no'  b'no'   \n",
              "2     b'0'      b'0'  ...    b'm'                b'?'   b'no'  b'no'   \n",
              "3     b'0'      b'1'  ...    b'f'                b'?'  b'yes'  b'no'   \n",
              "4     b'1'      b'1'  ...    b'm'           b'Others'  b'yes'  b'no'   \n",
              "\n",
              "      contry_of_res used_app_before result       age_desc   relation Class/ASD  \n",
              "0         b'Jordan'           b'no'    5.0  b'4-11 years'  b'Parent'     b'NO'  \n",
              "1         b'Jordan'           b'no'    5.0  b'4-11 years'  b'Parent'     b'NO'  \n",
              "2         b'Jordan'          b'yes'    5.0  b'4-11 years'       b'?'     b'NO'  \n",
              "3         b'Jordan'           b'no'    4.0  b'4-11 years'       b'?'     b'NO'  \n",
              "4  b'United States'           b'no'   10.0  b'4-11 years'  b'Parent'    b'YES'  \n",
              "\n",
              "[5 rows x 21 columns]"
            ],
            "text/html": [
              "\n",
              "  <div id=\"df-1ae0ea1f-d2a3-4658-a394-ee1db87f6cff\">\n",
              "    <div class=\"colab-df-container\">\n",
              "      <div>\n",
              "<style scoped>\n",
              "    .dataframe tbody tr th:only-of-type {\n",
              "        vertical-align: middle;\n",
              "    }\n",
              "\n",
              "    .dataframe tbody tr th {\n",
              "        vertical-align: top;\n",
              "    }\n",
              "\n",
              "    .dataframe thead th {\n",
              "        text-align: right;\n",
              "    }\n",
              "</style>\n",
              "<table border=\"1\" class=\"dataframe\">\n",
              "  <thead>\n",
              "    <tr style=\"text-align: right;\">\n",
              "      <th></th>\n",
              "      <th>A1_Score</th>\n",
              "      <th>A2_Score</th>\n",
              "      <th>A3_Score</th>\n",
              "      <th>A4_Score</th>\n",
              "      <th>A5_Score</th>\n",
              "      <th>A6_Score</th>\n",
              "      <th>A7_Score</th>\n",
              "      <th>A8_Score</th>\n",
              "      <th>A9_Score</th>\n",
              "      <th>A10_Score</th>\n",
              "      <th>...</th>\n",
              "      <th>gender</th>\n",
              "      <th>ethnicity</th>\n",
              "      <th>jundice</th>\n",
              "      <th>austim</th>\n",
              "      <th>contry_of_res</th>\n",
              "      <th>used_app_before</th>\n",
              "      <th>result</th>\n",
              "      <th>age_desc</th>\n",
              "      <th>relation</th>\n",
              "      <th>Class/ASD</th>\n",
              "    </tr>\n",
              "  </thead>\n",
              "  <tbody>\n",
              "    <tr>\n",
              "      <th>0</th>\n",
              "      <td>b'1'</td>\n",
              "      <td>b'1'</td>\n",
              "      <td>b'0'</td>\n",
              "      <td>b'0'</td>\n",
              "      <td>b'1'</td>\n",
              "      <td>b'1'</td>\n",
              "      <td>b'0'</td>\n",
              "      <td>b'1'</td>\n",
              "      <td>b'0'</td>\n",
              "      <td>b'0'</td>\n",
              "      <td>...</td>\n",
              "      <td>b'm'</td>\n",
              "      <td>b'Others'</td>\n",
              "      <td>b'no'</td>\n",
              "      <td>b'no'</td>\n",
              "      <td>b'Jordan'</td>\n",
              "      <td>b'no'</td>\n",
              "      <td>5.0</td>\n",
              "      <td>b'4-11 years'</td>\n",
              "      <td>b'Parent'</td>\n",
              "      <td>b'NO'</td>\n",
              "    </tr>\n",
              "    <tr>\n",
              "      <th>1</th>\n",
              "      <td>b'1'</td>\n",
              "      <td>b'1'</td>\n",
              "      <td>b'0'</td>\n",
              "      <td>b'0'</td>\n",
              "      <td>b'1'</td>\n",
              "      <td>b'1'</td>\n",
              "      <td>b'0'</td>\n",
              "      <td>b'1'</td>\n",
              "      <td>b'0'</td>\n",
              "      <td>b'0'</td>\n",
              "      <td>...</td>\n",
              "      <td>b'm'</td>\n",
              "      <td>b'Middle Eastern '</td>\n",
              "      <td>b'no'</td>\n",
              "      <td>b'no'</td>\n",
              "      <td>b'Jordan'</td>\n",
              "      <td>b'no'</td>\n",
              "      <td>5.0</td>\n",
              "      <td>b'4-11 years'</td>\n",
              "      <td>b'Parent'</td>\n",
              "      <td>b'NO'</td>\n",
              "    </tr>\n",
              "    <tr>\n",
              "      <th>2</th>\n",
              "      <td>b'1'</td>\n",
              "      <td>b'1'</td>\n",
              "      <td>b'0'</td>\n",
              "      <td>b'0'</td>\n",
              "      <td>b'0'</td>\n",
              "      <td>b'1'</td>\n",
              "      <td>b'1'</td>\n",
              "      <td>b'1'</td>\n",
              "      <td>b'0'</td>\n",
              "      <td>b'0'</td>\n",
              "      <td>...</td>\n",
              "      <td>b'm'</td>\n",
              "      <td>b'?'</td>\n",
              "      <td>b'no'</td>\n",
              "      <td>b'no'</td>\n",
              "      <td>b'Jordan'</td>\n",
              "      <td>b'yes'</td>\n",
              "      <td>5.0</td>\n",
              "      <td>b'4-11 years'</td>\n",
              "      <td>b'?'</td>\n",
              "      <td>b'NO'</td>\n",
              "    </tr>\n",
              "    <tr>\n",
              "      <th>3</th>\n",
              "      <td>b'0'</td>\n",
              "      <td>b'1'</td>\n",
              "      <td>b'0'</td>\n",
              "      <td>b'0'</td>\n",
              "      <td>b'1'</td>\n",
              "      <td>b'1'</td>\n",
              "      <td>b'0'</td>\n",
              "      <td>b'0'</td>\n",
              "      <td>b'0'</td>\n",
              "      <td>b'1'</td>\n",
              "      <td>...</td>\n",
              "      <td>b'f'</td>\n",
              "      <td>b'?'</td>\n",
              "      <td>b'yes'</td>\n",
              "      <td>b'no'</td>\n",
              "      <td>b'Jordan'</td>\n",
              "      <td>b'no'</td>\n",
              "      <td>4.0</td>\n",
              "      <td>b'4-11 years'</td>\n",
              "      <td>b'?'</td>\n",
              "      <td>b'NO'</td>\n",
              "    </tr>\n",
              "    <tr>\n",
              "      <th>4</th>\n",
              "      <td>b'1'</td>\n",
              "      <td>b'1'</td>\n",
              "      <td>b'1'</td>\n",
              "      <td>b'1'</td>\n",
              "      <td>b'1'</td>\n",
              "      <td>b'1'</td>\n",
              "      <td>b'1'</td>\n",
              "      <td>b'1'</td>\n",
              "      <td>b'1'</td>\n",
              "      <td>b'1'</td>\n",
              "      <td>...</td>\n",
              "      <td>b'm'</td>\n",
              "      <td>b'Others'</td>\n",
              "      <td>b'yes'</td>\n",
              "      <td>b'no'</td>\n",
              "      <td>b'United States'</td>\n",
              "      <td>b'no'</td>\n",
              "      <td>10.0</td>\n",
              "      <td>b'4-11 years'</td>\n",
              "      <td>b'Parent'</td>\n",
              "      <td>b'YES'</td>\n",
              "    </tr>\n",
              "  </tbody>\n",
              "</table>\n",
              "<p>5 rows × 21 columns</p>\n",
              "</div>\n",
              "      <button class=\"colab-df-convert\" onclick=\"convertToInteractive('df-1ae0ea1f-d2a3-4658-a394-ee1db87f6cff')\"\n",
              "              title=\"Convert this dataframe to an interactive table.\"\n",
              "              style=\"display:none;\">\n",
              "        \n",
              "  <svg xmlns=\"http://www.w3.org/2000/svg\" height=\"24px\"viewBox=\"0 0 24 24\"\n",
              "       width=\"24px\">\n",
              "    <path d=\"M0 0h24v24H0V0z\" fill=\"none\"/>\n",
              "    <path d=\"M18.56 5.44l.94 2.06.94-2.06 2.06-.94-2.06-.94-.94-2.06-.94 2.06-2.06.94zm-11 1L8.5 8.5l.94-2.06 2.06-.94-2.06-.94L8.5 2.5l-.94 2.06-2.06.94zm10 10l.94 2.06.94-2.06 2.06-.94-2.06-.94-.94-2.06-.94 2.06-2.06.94z\"/><path d=\"M17.41 7.96l-1.37-1.37c-.4-.4-.92-.59-1.43-.59-.52 0-1.04.2-1.43.59L10.3 9.45l-7.72 7.72c-.78.78-.78 2.05 0 2.83L4 21.41c.39.39.9.59 1.41.59.51 0 1.02-.2 1.41-.59l7.78-7.78 2.81-2.81c.8-.78.8-2.07 0-2.86zM5.41 20L4 18.59l7.72-7.72 1.47 1.35L5.41 20z\"/>\n",
              "  </svg>\n",
              "      </button>\n",
              "      \n",
              "  <style>\n",
              "    .colab-df-container {\n",
              "      display:flex;\n",
              "      flex-wrap:wrap;\n",
              "      gap: 12px;\n",
              "    }\n",
              "\n",
              "    .colab-df-convert {\n",
              "      background-color: #E8F0FE;\n",
              "      border: none;\n",
              "      border-radius: 50%;\n",
              "      cursor: pointer;\n",
              "      display: none;\n",
              "      fill: #1967D2;\n",
              "      height: 32px;\n",
              "      padding: 0 0 0 0;\n",
              "      width: 32px;\n",
              "    }\n",
              "\n",
              "    .colab-df-convert:hover {\n",
              "      background-color: #E2EBFA;\n",
              "      box-shadow: 0px 1px 2px rgba(60, 64, 67, 0.3), 0px 1px 3px 1px rgba(60, 64, 67, 0.15);\n",
              "      fill: #174EA6;\n",
              "    }\n",
              "\n",
              "    [theme=dark] .colab-df-convert {\n",
              "      background-color: #3B4455;\n",
              "      fill: #D2E3FC;\n",
              "    }\n",
              "\n",
              "    [theme=dark] .colab-df-convert:hover {\n",
              "      background-color: #434B5C;\n",
              "      box-shadow: 0px 1px 3px 1px rgba(0, 0, 0, 0.15);\n",
              "      filter: drop-shadow(0px 1px 2px rgba(0, 0, 0, 0.3));\n",
              "      fill: #FFFFFF;\n",
              "    }\n",
              "  </style>\n",
              "\n",
              "      <script>\n",
              "        const buttonEl =\n",
              "          document.querySelector('#df-1ae0ea1f-d2a3-4658-a394-ee1db87f6cff button.colab-df-convert');\n",
              "        buttonEl.style.display =\n",
              "          google.colab.kernel.accessAllowed ? 'block' : 'none';\n",
              "\n",
              "        async function convertToInteractive(key) {\n",
              "          const element = document.querySelector('#df-1ae0ea1f-d2a3-4658-a394-ee1db87f6cff');\n",
              "          const dataTable =\n",
              "            await google.colab.kernel.invokeFunction('convertToInteractive',\n",
              "                                                     [key], {});\n",
              "          if (!dataTable) return;\n",
              "\n",
              "          const docLinkHtml = 'Like what you see? Visit the ' +\n",
              "            '<a target=\"_blank\" href=https://colab.research.google.com/notebooks/data_table.ipynb>data table notebook</a>'\n",
              "            + ' to learn more about interactive tables.';\n",
              "          element.innerHTML = '';\n",
              "          dataTable['output_type'] = 'display_data';\n",
              "          await google.colab.output.renderOutput(dataTable, element);\n",
              "          const docLink = document.createElement('div');\n",
              "          docLink.innerHTML = docLinkHtml;\n",
              "          element.appendChild(docLink);\n",
              "        }\n",
              "      </script>\n",
              "    </div>\n",
              "  </div>\n",
              "  "
            ]
          },
          "metadata": {},
          "execution_count": 26
        }
      ],
      "source": [
        "df.head()"
      ]
    },
    {
      "cell_type": "code",
      "execution_count": null,
      "metadata": {
        "id": "t4FeP11mLfiG",
        "colab": {
          "base_uri": "https://localhost:8080/",
          "height": 661
        },
        "outputId": "175bed01-7a0f-4a03-f6a8-fc88825458e8"
      },
      "outputs": [
        {
          "output_type": "execute_result",
          "data": {
            "text/plain": [
              "    A1_Score A2_Score A3_Score A4_Score A5_Score A6_Score A7_Score A8_Score  \\\n",
              "0       b'1'     b'1'     b'0'     b'0'     b'1'     b'1'     b'0'     b'1'   \n",
              "1       b'1'     b'1'     b'0'     b'0'     b'1'     b'1'     b'0'     b'1'   \n",
              "2       b'1'     b'1'     b'0'     b'0'     b'0'     b'1'     b'1'     b'1'   \n",
              "3       b'0'     b'1'     b'0'     b'0'     b'1'     b'1'     b'0'     b'0'   \n",
              "4       b'1'     b'1'     b'1'     b'1'     b'1'     b'1'     b'1'     b'1'   \n",
              "..       ...      ...      ...      ...      ...      ...      ...      ...   \n",
              "287     b'1'     b'1'     b'1'     b'1'     b'1'     b'1'     b'1'     b'1'   \n",
              "288     b'1'     b'0'     b'0'     b'0'     b'1'     b'0'     b'1'     b'0'   \n",
              "289     b'1'     b'0'     b'1'     b'1'     b'1'     b'1'     b'1'     b'0'   \n",
              "290     b'1'     b'1'     b'1'     b'0'     b'1'     b'1'     b'1'     b'1'   \n",
              "291     b'0'     b'0'     b'1'     b'0'     b'1'     b'0'     b'1'     b'0'   \n",
              "\n",
              "    A9_Score A10_Score  ...  gender           ethnicity jundice  austim  \\\n",
              "0       b'0'      b'0'  ...    b'm'           b'Others'   b'no'   b'no'   \n",
              "1       b'0'      b'0'  ...    b'm'  b'Middle Eastern '   b'no'   b'no'   \n",
              "2       b'0'      b'0'  ...    b'm'                b'?'   b'no'   b'no'   \n",
              "3       b'0'      b'1'  ...    b'f'                b'?'  b'yes'   b'no'   \n",
              "4       b'1'      b'1'  ...    b'm'           b'Others'  b'yes'   b'no'   \n",
              "..       ...       ...  ...     ...                 ...     ...     ...   \n",
              "287     b'1'      b'1'  ...    b'f'   b'White-European'  b'yes'  b'yes'   \n",
              "288     b'0'      b'1'  ...    b'f'   b'White-European'  b'yes'  b'yes'   \n",
              "289     b'0'      b'1'  ...    b'm'           b'Latino'   b'no'   b'no'   \n",
              "290     b'1'      b'1'  ...    b'm'      b'South Asian'   b'no'   b'no'   \n",
              "291     b'0'      b'0'  ...    b'f'      b'South Asian'   b'no'   b'no'   \n",
              "\n",
              "         contry_of_res used_app_before result       age_desc   relation  \\\n",
              "0            b'Jordan'           b'no'    5.0  b'4-11 years'  b'Parent'   \n",
              "1            b'Jordan'           b'no'    5.0  b'4-11 years'  b'Parent'   \n",
              "2            b'Jordan'          b'yes'    5.0  b'4-11 years'       b'?'   \n",
              "3            b'Jordan'           b'no'    4.0  b'4-11 years'       b'?'   \n",
              "4     b'United States'           b'no'   10.0  b'4-11 years'  b'Parent'   \n",
              "..                 ...             ...    ...            ...        ...   \n",
              "287  b'United Kingdom'           b'no'   10.0  b'4-11 years'  b'Parent'   \n",
              "288       b'Australia'           b'no'    4.0  b'4-11 years'  b'Parent'   \n",
              "289          b'Brazil'           b'no'    7.0  b'4-11 years'  b'Parent'   \n",
              "290           b'India'           b'no'    9.0  b'4-11 years'  b'Parent'   \n",
              "291           b'India'           b'no'    3.0  b'4-11 years'  b'Parent'   \n",
              "\n",
              "    Class/ASD  \n",
              "0       b'NO'  \n",
              "1       b'NO'  \n",
              "2       b'NO'  \n",
              "3       b'NO'  \n",
              "4      b'YES'  \n",
              "..        ...  \n",
              "287    b'YES'  \n",
              "288     b'NO'  \n",
              "289    b'YES'  \n",
              "290    b'YES'  \n",
              "291     b'NO'  \n",
              "\n",
              "[292 rows x 21 columns]"
            ],
            "text/html": [
              "\n",
              "  <div id=\"df-6fb678f7-338c-4c44-9dea-b4682f47b00e\">\n",
              "    <div class=\"colab-df-container\">\n",
              "      <div>\n",
              "<style scoped>\n",
              "    .dataframe tbody tr th:only-of-type {\n",
              "        vertical-align: middle;\n",
              "    }\n",
              "\n",
              "    .dataframe tbody tr th {\n",
              "        vertical-align: top;\n",
              "    }\n",
              "\n",
              "    .dataframe thead th {\n",
              "        text-align: right;\n",
              "    }\n",
              "</style>\n",
              "<table border=\"1\" class=\"dataframe\">\n",
              "  <thead>\n",
              "    <tr style=\"text-align: right;\">\n",
              "      <th></th>\n",
              "      <th>A1_Score</th>\n",
              "      <th>A2_Score</th>\n",
              "      <th>A3_Score</th>\n",
              "      <th>A4_Score</th>\n",
              "      <th>A5_Score</th>\n",
              "      <th>A6_Score</th>\n",
              "      <th>A7_Score</th>\n",
              "      <th>A8_Score</th>\n",
              "      <th>A9_Score</th>\n",
              "      <th>A10_Score</th>\n",
              "      <th>...</th>\n",
              "      <th>gender</th>\n",
              "      <th>ethnicity</th>\n",
              "      <th>jundice</th>\n",
              "      <th>austim</th>\n",
              "      <th>contry_of_res</th>\n",
              "      <th>used_app_before</th>\n",
              "      <th>result</th>\n",
              "      <th>age_desc</th>\n",
              "      <th>relation</th>\n",
              "      <th>Class/ASD</th>\n",
              "    </tr>\n",
              "  </thead>\n",
              "  <tbody>\n",
              "    <tr>\n",
              "      <th>0</th>\n",
              "      <td>b'1'</td>\n",
              "      <td>b'1'</td>\n",
              "      <td>b'0'</td>\n",
              "      <td>b'0'</td>\n",
              "      <td>b'1'</td>\n",
              "      <td>b'1'</td>\n",
              "      <td>b'0'</td>\n",
              "      <td>b'1'</td>\n",
              "      <td>b'0'</td>\n",
              "      <td>b'0'</td>\n",
              "      <td>...</td>\n",
              "      <td>b'm'</td>\n",
              "      <td>b'Others'</td>\n",
              "      <td>b'no'</td>\n",
              "      <td>b'no'</td>\n",
              "      <td>b'Jordan'</td>\n",
              "      <td>b'no'</td>\n",
              "      <td>5.0</td>\n",
              "      <td>b'4-11 years'</td>\n",
              "      <td>b'Parent'</td>\n",
              "      <td>b'NO'</td>\n",
              "    </tr>\n",
              "    <tr>\n",
              "      <th>1</th>\n",
              "      <td>b'1'</td>\n",
              "      <td>b'1'</td>\n",
              "      <td>b'0'</td>\n",
              "      <td>b'0'</td>\n",
              "      <td>b'1'</td>\n",
              "      <td>b'1'</td>\n",
              "      <td>b'0'</td>\n",
              "      <td>b'1'</td>\n",
              "      <td>b'0'</td>\n",
              "      <td>b'0'</td>\n",
              "      <td>...</td>\n",
              "      <td>b'm'</td>\n",
              "      <td>b'Middle Eastern '</td>\n",
              "      <td>b'no'</td>\n",
              "      <td>b'no'</td>\n",
              "      <td>b'Jordan'</td>\n",
              "      <td>b'no'</td>\n",
              "      <td>5.0</td>\n",
              "      <td>b'4-11 years'</td>\n",
              "      <td>b'Parent'</td>\n",
              "      <td>b'NO'</td>\n",
              "    </tr>\n",
              "    <tr>\n",
              "      <th>2</th>\n",
              "      <td>b'1'</td>\n",
              "      <td>b'1'</td>\n",
              "      <td>b'0'</td>\n",
              "      <td>b'0'</td>\n",
              "      <td>b'0'</td>\n",
              "      <td>b'1'</td>\n",
              "      <td>b'1'</td>\n",
              "      <td>b'1'</td>\n",
              "      <td>b'0'</td>\n",
              "      <td>b'0'</td>\n",
              "      <td>...</td>\n",
              "      <td>b'm'</td>\n",
              "      <td>b'?'</td>\n",
              "      <td>b'no'</td>\n",
              "      <td>b'no'</td>\n",
              "      <td>b'Jordan'</td>\n",
              "      <td>b'yes'</td>\n",
              "      <td>5.0</td>\n",
              "      <td>b'4-11 years'</td>\n",
              "      <td>b'?'</td>\n",
              "      <td>b'NO'</td>\n",
              "    </tr>\n",
              "    <tr>\n",
              "      <th>3</th>\n",
              "      <td>b'0'</td>\n",
              "      <td>b'1'</td>\n",
              "      <td>b'0'</td>\n",
              "      <td>b'0'</td>\n",
              "      <td>b'1'</td>\n",
              "      <td>b'1'</td>\n",
              "      <td>b'0'</td>\n",
              "      <td>b'0'</td>\n",
              "      <td>b'0'</td>\n",
              "      <td>b'1'</td>\n",
              "      <td>...</td>\n",
              "      <td>b'f'</td>\n",
              "      <td>b'?'</td>\n",
              "      <td>b'yes'</td>\n",
              "      <td>b'no'</td>\n",
              "      <td>b'Jordan'</td>\n",
              "      <td>b'no'</td>\n",
              "      <td>4.0</td>\n",
              "      <td>b'4-11 years'</td>\n",
              "      <td>b'?'</td>\n",
              "      <td>b'NO'</td>\n",
              "    </tr>\n",
              "    <tr>\n",
              "      <th>4</th>\n",
              "      <td>b'1'</td>\n",
              "      <td>b'1'</td>\n",
              "      <td>b'1'</td>\n",
              "      <td>b'1'</td>\n",
              "      <td>b'1'</td>\n",
              "      <td>b'1'</td>\n",
              "      <td>b'1'</td>\n",
              "      <td>b'1'</td>\n",
              "      <td>b'1'</td>\n",
              "      <td>b'1'</td>\n",
              "      <td>...</td>\n",
              "      <td>b'm'</td>\n",
              "      <td>b'Others'</td>\n",
              "      <td>b'yes'</td>\n",
              "      <td>b'no'</td>\n",
              "      <td>b'United States'</td>\n",
              "      <td>b'no'</td>\n",
              "      <td>10.0</td>\n",
              "      <td>b'4-11 years'</td>\n",
              "      <td>b'Parent'</td>\n",
              "      <td>b'YES'</td>\n",
              "    </tr>\n",
              "    <tr>\n",
              "      <th>...</th>\n",
              "      <td>...</td>\n",
              "      <td>...</td>\n",
              "      <td>...</td>\n",
              "      <td>...</td>\n",
              "      <td>...</td>\n",
              "      <td>...</td>\n",
              "      <td>...</td>\n",
              "      <td>...</td>\n",
              "      <td>...</td>\n",
              "      <td>...</td>\n",
              "      <td>...</td>\n",
              "      <td>...</td>\n",
              "      <td>...</td>\n",
              "      <td>...</td>\n",
              "      <td>...</td>\n",
              "      <td>...</td>\n",
              "      <td>...</td>\n",
              "      <td>...</td>\n",
              "      <td>...</td>\n",
              "      <td>...</td>\n",
              "      <td>...</td>\n",
              "    </tr>\n",
              "    <tr>\n",
              "      <th>287</th>\n",
              "      <td>b'1'</td>\n",
              "      <td>b'1'</td>\n",
              "      <td>b'1'</td>\n",
              "      <td>b'1'</td>\n",
              "      <td>b'1'</td>\n",
              "      <td>b'1'</td>\n",
              "      <td>b'1'</td>\n",
              "      <td>b'1'</td>\n",
              "      <td>b'1'</td>\n",
              "      <td>b'1'</td>\n",
              "      <td>...</td>\n",
              "      <td>b'f'</td>\n",
              "      <td>b'White-European'</td>\n",
              "      <td>b'yes'</td>\n",
              "      <td>b'yes'</td>\n",
              "      <td>b'United Kingdom'</td>\n",
              "      <td>b'no'</td>\n",
              "      <td>10.0</td>\n",
              "      <td>b'4-11 years'</td>\n",
              "      <td>b'Parent'</td>\n",
              "      <td>b'YES'</td>\n",
              "    </tr>\n",
              "    <tr>\n",
              "      <th>288</th>\n",
              "      <td>b'1'</td>\n",
              "      <td>b'0'</td>\n",
              "      <td>b'0'</td>\n",
              "      <td>b'0'</td>\n",
              "      <td>b'1'</td>\n",
              "      <td>b'0'</td>\n",
              "      <td>b'1'</td>\n",
              "      <td>b'0'</td>\n",
              "      <td>b'0'</td>\n",
              "      <td>b'1'</td>\n",
              "      <td>...</td>\n",
              "      <td>b'f'</td>\n",
              "      <td>b'White-European'</td>\n",
              "      <td>b'yes'</td>\n",
              "      <td>b'yes'</td>\n",
              "      <td>b'Australia'</td>\n",
              "      <td>b'no'</td>\n",
              "      <td>4.0</td>\n",
              "      <td>b'4-11 years'</td>\n",
              "      <td>b'Parent'</td>\n",
              "      <td>b'NO'</td>\n",
              "    </tr>\n",
              "    <tr>\n",
              "      <th>289</th>\n",
              "      <td>b'1'</td>\n",
              "      <td>b'0'</td>\n",
              "      <td>b'1'</td>\n",
              "      <td>b'1'</td>\n",
              "      <td>b'1'</td>\n",
              "      <td>b'1'</td>\n",
              "      <td>b'1'</td>\n",
              "      <td>b'0'</td>\n",
              "      <td>b'0'</td>\n",
              "      <td>b'1'</td>\n",
              "      <td>...</td>\n",
              "      <td>b'm'</td>\n",
              "      <td>b'Latino'</td>\n",
              "      <td>b'no'</td>\n",
              "      <td>b'no'</td>\n",
              "      <td>b'Brazil'</td>\n",
              "      <td>b'no'</td>\n",
              "      <td>7.0</td>\n",
              "      <td>b'4-11 years'</td>\n",
              "      <td>b'Parent'</td>\n",
              "      <td>b'YES'</td>\n",
              "    </tr>\n",
              "    <tr>\n",
              "      <th>290</th>\n",
              "      <td>b'1'</td>\n",
              "      <td>b'1'</td>\n",
              "      <td>b'1'</td>\n",
              "      <td>b'0'</td>\n",
              "      <td>b'1'</td>\n",
              "      <td>b'1'</td>\n",
              "      <td>b'1'</td>\n",
              "      <td>b'1'</td>\n",
              "      <td>b'1'</td>\n",
              "      <td>b'1'</td>\n",
              "      <td>...</td>\n",
              "      <td>b'm'</td>\n",
              "      <td>b'South Asian'</td>\n",
              "      <td>b'no'</td>\n",
              "      <td>b'no'</td>\n",
              "      <td>b'India'</td>\n",
              "      <td>b'no'</td>\n",
              "      <td>9.0</td>\n",
              "      <td>b'4-11 years'</td>\n",
              "      <td>b'Parent'</td>\n",
              "      <td>b'YES'</td>\n",
              "    </tr>\n",
              "    <tr>\n",
              "      <th>291</th>\n",
              "      <td>b'0'</td>\n",
              "      <td>b'0'</td>\n",
              "      <td>b'1'</td>\n",
              "      <td>b'0'</td>\n",
              "      <td>b'1'</td>\n",
              "      <td>b'0'</td>\n",
              "      <td>b'1'</td>\n",
              "      <td>b'0'</td>\n",
              "      <td>b'0'</td>\n",
              "      <td>b'0'</td>\n",
              "      <td>...</td>\n",
              "      <td>b'f'</td>\n",
              "      <td>b'South Asian'</td>\n",
              "      <td>b'no'</td>\n",
              "      <td>b'no'</td>\n",
              "      <td>b'India'</td>\n",
              "      <td>b'no'</td>\n",
              "      <td>3.0</td>\n",
              "      <td>b'4-11 years'</td>\n",
              "      <td>b'Parent'</td>\n",
              "      <td>b'NO'</td>\n",
              "    </tr>\n",
              "  </tbody>\n",
              "</table>\n",
              "<p>292 rows × 21 columns</p>\n",
              "</div>\n",
              "      <button class=\"colab-df-convert\" onclick=\"convertToInteractive('df-6fb678f7-338c-4c44-9dea-b4682f47b00e')\"\n",
              "              title=\"Convert this dataframe to an interactive table.\"\n",
              "              style=\"display:none;\">\n",
              "        \n",
              "  <svg xmlns=\"http://www.w3.org/2000/svg\" height=\"24px\"viewBox=\"0 0 24 24\"\n",
              "       width=\"24px\">\n",
              "    <path d=\"M0 0h24v24H0V0z\" fill=\"none\"/>\n",
              "    <path d=\"M18.56 5.44l.94 2.06.94-2.06 2.06-.94-2.06-.94-.94-2.06-.94 2.06-2.06.94zm-11 1L8.5 8.5l.94-2.06 2.06-.94-2.06-.94L8.5 2.5l-.94 2.06-2.06.94zm10 10l.94 2.06.94-2.06 2.06-.94-2.06-.94-.94-2.06-.94 2.06-2.06.94z\"/><path d=\"M17.41 7.96l-1.37-1.37c-.4-.4-.92-.59-1.43-.59-.52 0-1.04.2-1.43.59L10.3 9.45l-7.72 7.72c-.78.78-.78 2.05 0 2.83L4 21.41c.39.39.9.59 1.41.59.51 0 1.02-.2 1.41-.59l7.78-7.78 2.81-2.81c.8-.78.8-2.07 0-2.86zM5.41 20L4 18.59l7.72-7.72 1.47 1.35L5.41 20z\"/>\n",
              "  </svg>\n",
              "      </button>\n",
              "      \n",
              "  <style>\n",
              "    .colab-df-container {\n",
              "      display:flex;\n",
              "      flex-wrap:wrap;\n",
              "      gap: 12px;\n",
              "    }\n",
              "\n",
              "    .colab-df-convert {\n",
              "      background-color: #E8F0FE;\n",
              "      border: none;\n",
              "      border-radius: 50%;\n",
              "      cursor: pointer;\n",
              "      display: none;\n",
              "      fill: #1967D2;\n",
              "      height: 32px;\n",
              "      padding: 0 0 0 0;\n",
              "      width: 32px;\n",
              "    }\n",
              "\n",
              "    .colab-df-convert:hover {\n",
              "      background-color: #E2EBFA;\n",
              "      box-shadow: 0px 1px 2px rgba(60, 64, 67, 0.3), 0px 1px 3px 1px rgba(60, 64, 67, 0.15);\n",
              "      fill: #174EA6;\n",
              "    }\n",
              "\n",
              "    [theme=dark] .colab-df-convert {\n",
              "      background-color: #3B4455;\n",
              "      fill: #D2E3FC;\n",
              "    }\n",
              "\n",
              "    [theme=dark] .colab-df-convert:hover {\n",
              "      background-color: #434B5C;\n",
              "      box-shadow: 0px 1px 3px 1px rgba(0, 0, 0, 0.15);\n",
              "      filter: drop-shadow(0px 1px 2px rgba(0, 0, 0, 0.3));\n",
              "      fill: #FFFFFF;\n",
              "    }\n",
              "  </style>\n",
              "\n",
              "      <script>\n",
              "        const buttonEl =\n",
              "          document.querySelector('#df-6fb678f7-338c-4c44-9dea-b4682f47b00e button.colab-df-convert');\n",
              "        buttonEl.style.display =\n",
              "          google.colab.kernel.accessAllowed ? 'block' : 'none';\n",
              "\n",
              "        async function convertToInteractive(key) {\n",
              "          const element = document.querySelector('#df-6fb678f7-338c-4c44-9dea-b4682f47b00e');\n",
              "          const dataTable =\n",
              "            await google.colab.kernel.invokeFunction('convertToInteractive',\n",
              "                                                     [key], {});\n",
              "          if (!dataTable) return;\n",
              "\n",
              "          const docLinkHtml = 'Like what you see? Visit the ' +\n",
              "            '<a target=\"_blank\" href=https://colab.research.google.com/notebooks/data_table.ipynb>data table notebook</a>'\n",
              "            + ' to learn more about interactive tables.';\n",
              "          element.innerHTML = '';\n",
              "          dataTable['output_type'] = 'display_data';\n",
              "          await google.colab.output.renderOutput(dataTable, element);\n",
              "          const docLink = document.createElement('div');\n",
              "          docLink.innerHTML = docLinkHtml;\n",
              "          element.appendChild(docLink);\n",
              "        }\n",
              "      </script>\n",
              "    </div>\n",
              "  </div>\n",
              "  "
            ]
          },
          "metadata": {},
          "execution_count": 29
        }
      ],
      "source": [
        "df"
      ]
    },
    {
      "cell_type": "code",
      "execution_count": null,
      "metadata": {
        "id": "5a-ik72XMFdJ",
        "colab": {
          "base_uri": "https://localhost:8080/"
        },
        "outputId": "6c186efb-8be9-4c9d-d59e-a9766ad6c661"
      },
      "outputs": [
        {
          "output_type": "execute_result",
          "data": {
            "text/plain": [
              "Index(['A1_Score', 'A2_Score', 'A3_Score', 'A4_Score', 'A5_Score', 'A6_Score',\n",
              "       'A7_Score', 'A8_Score', 'A9_Score', 'A10_Score', 'age', 'gender',\n",
              "       'ethnicity', 'jundice', 'austim', 'contry_of_res', 'used_app_before',\n",
              "       'result', 'age_desc', 'relation', 'Class/ASD'],\n",
              "      dtype='object')"
            ]
          },
          "metadata": {},
          "execution_count": 30
        }
      ],
      "source": [
        "df.columns"
      ]
    },
    {
      "cell_type": "code",
      "source": [
        "X=np.array(x)"
      ],
      "metadata": {
        "id": "Sxx6f7_D_ITm"
      },
      "execution_count": null,
      "outputs": []
    },
    {
      "cell_type": "code",
      "source": [
        "Y=np.array(y)"
      ],
      "metadata": {
        "id": "QveFO3sVA4rI"
      },
      "execution_count": null,
      "outputs": []
    },
    {
      "cell_type": "code",
      "source": [],
      "metadata": {
        "colab": {
          "base_uri": "https://localhost:8080/"
        },
        "id": "rXbB33heBEBM",
        "outputId": "2e13bb76-433b-4964-9faa-36e82c53bddb"
      },
      "execution_count": null,
      "outputs": [
        {
          "output_type": "stream",
          "name": "stdout",
          "text": [
            "[[b'1' b'1' b'0' ... b'Jordan' 5.0 b'4-11 years']\n",
            " [b'1' b'1' b'0' ... b'Jordan' 5.0 b'4-11 years']\n",
            " [b'1' b'1' b'0' ... b'Jordan' 5.0 b'4-11 years']\n",
            " ...\n",
            " [b'1' b'0' b'1' ... b'Brazil' 7.0 b'4-11 years']\n",
            " [b'1' b'1' b'1' ... b'India' 9.0 b'4-11 years']\n",
            " [b'0' b'0' b'1' ... b'India' 3.0 b'4-11 years']]\n"
          ]
        }
      ]
    },
    {
      "cell_type": "code",
      "source": [
        "print(y)"
      ],
      "metadata": {
        "colab": {
          "base_uri": "https://localhost:8080/"
        },
        "id": "j76r6SqWBH76",
        "outputId": "62a0edfa-c3b7-4159-d413-461ecd733fd5"
      },
      "execution_count": null,
      "outputs": [
        {
          "output_type": "stream",
          "name": "stdout",
          "text": [
            "0       b'NO'\n",
            "1       b'NO'\n",
            "2       b'NO'\n",
            "3       b'NO'\n",
            "4      b'YES'\n",
            "        ...  \n",
            "287    b'YES'\n",
            "288     b'NO'\n",
            "289    b'YES'\n",
            "290    b'YES'\n",
            "291     b'NO'\n",
            "Name: Class/ASD, Length: 292, dtype: object\n"
          ]
        }
      ]
    },
    {
      "cell_type": "code",
      "execution_count": null,
      "metadata": {
        "id": "KISggKUE8TJF"
      },
      "outputs": [],
      "source": [
        "df.columns\n"
      ]
    },
    {
      "cell_type": "code",
      "execution_count": null,
      "metadata": {
        "id": "T98D7Cs39f9L"
      },
      "outputs": [],
      "source": [
        "from sklearn.preprocessing import LabelEncoder"
      ]
    },
    {
      "cell_type": "code",
      "source": [
        "le = LabelEncoder()"
      ],
      "metadata": {
        "id": "ExZeD8teKEvm"
      },
      "execution_count": null,
      "outputs": []
    },
    {
      "cell_type": "code",
      "source": [
        "df['gender'] = le.fit_transform(df['gender'])"
      ],
      "metadata": {
        "id": "2Bt_zZatKKfy"
      },
      "execution_count": null,
      "outputs": []
    },
    {
      "cell_type": "code",
      "source": [
        "df.head()"
      ],
      "metadata": {
        "colab": {
          "base_uri": "https://localhost:8080/",
          "height": 386
        },
        "id": "bx7Z44IiKQ-Y",
        "outputId": "9f05df48-e00d-48c7-ba0c-72a4115d451f"
      },
      "execution_count": null,
      "outputs": [
        {
          "output_type": "execute_result",
          "data": {
            "text/plain": [
              "  A1_Score A2_Score A3_Score A4_Score A5_Score A6_Score A7_Score A8_Score  \\\n",
              "0     b'1'     b'1'     b'0'     b'0'     b'1'     b'1'     b'0'     b'1'   \n",
              "1     b'1'     b'1'     b'0'     b'0'     b'1'     b'1'     b'0'     b'1'   \n",
              "2     b'1'     b'1'     b'0'     b'0'     b'0'     b'1'     b'1'     b'1'   \n",
              "3     b'0'     b'1'     b'0'     b'0'     b'1'     b'1'     b'0'     b'0'   \n",
              "4     b'1'     b'1'     b'1'     b'1'     b'1'     b'1'     b'1'     b'1'   \n",
              "\n",
              "  A9_Score A10_Score  ...  gender           ethnicity jundice austim  \\\n",
              "0     b'0'      b'0'  ...       1           b'Others'   b'no'  b'no'   \n",
              "1     b'0'      b'0'  ...       1  b'Middle Eastern '   b'no'  b'no'   \n",
              "2     b'0'      b'0'  ...       1                b'?'   b'no'  b'no'   \n",
              "3     b'0'      b'1'  ...       0                b'?'  b'yes'  b'no'   \n",
              "4     b'1'      b'1'  ...       1           b'Others'  b'yes'  b'no'   \n",
              "\n",
              "      contry_of_res used_app_before result       age_desc   relation Class/ASD  \n",
              "0         b'Jordan'           b'no'    5.0  b'4-11 years'  b'Parent'     b'NO'  \n",
              "1         b'Jordan'           b'no'    5.0  b'4-11 years'  b'Parent'     b'NO'  \n",
              "2         b'Jordan'          b'yes'    5.0  b'4-11 years'       b'?'     b'NO'  \n",
              "3         b'Jordan'           b'no'    4.0  b'4-11 years'       b'?'     b'NO'  \n",
              "4  b'United States'           b'no'   10.0  b'4-11 years'  b'Parent'    b'YES'  \n",
              "\n",
              "[5 rows x 21 columns]"
            ],
            "text/html": [
              "\n",
              "  <div id=\"df-781e8c04-3b5e-4e38-9003-974308fc0ad8\">\n",
              "    <div class=\"colab-df-container\">\n",
              "      <div>\n",
              "<style scoped>\n",
              "    .dataframe tbody tr th:only-of-type {\n",
              "        vertical-align: middle;\n",
              "    }\n",
              "\n",
              "    .dataframe tbody tr th {\n",
              "        vertical-align: top;\n",
              "    }\n",
              "\n",
              "    .dataframe thead th {\n",
              "        text-align: right;\n",
              "    }\n",
              "</style>\n",
              "<table border=\"1\" class=\"dataframe\">\n",
              "  <thead>\n",
              "    <tr style=\"text-align: right;\">\n",
              "      <th></th>\n",
              "      <th>A1_Score</th>\n",
              "      <th>A2_Score</th>\n",
              "      <th>A3_Score</th>\n",
              "      <th>A4_Score</th>\n",
              "      <th>A5_Score</th>\n",
              "      <th>A6_Score</th>\n",
              "      <th>A7_Score</th>\n",
              "      <th>A8_Score</th>\n",
              "      <th>A9_Score</th>\n",
              "      <th>A10_Score</th>\n",
              "      <th>...</th>\n",
              "      <th>gender</th>\n",
              "      <th>ethnicity</th>\n",
              "      <th>jundice</th>\n",
              "      <th>austim</th>\n",
              "      <th>contry_of_res</th>\n",
              "      <th>used_app_before</th>\n",
              "      <th>result</th>\n",
              "      <th>age_desc</th>\n",
              "      <th>relation</th>\n",
              "      <th>Class/ASD</th>\n",
              "    </tr>\n",
              "  </thead>\n",
              "  <tbody>\n",
              "    <tr>\n",
              "      <th>0</th>\n",
              "      <td>b'1'</td>\n",
              "      <td>b'1'</td>\n",
              "      <td>b'0'</td>\n",
              "      <td>b'0'</td>\n",
              "      <td>b'1'</td>\n",
              "      <td>b'1'</td>\n",
              "      <td>b'0'</td>\n",
              "      <td>b'1'</td>\n",
              "      <td>b'0'</td>\n",
              "      <td>b'0'</td>\n",
              "      <td>...</td>\n",
              "      <td>1</td>\n",
              "      <td>b'Others'</td>\n",
              "      <td>b'no'</td>\n",
              "      <td>b'no'</td>\n",
              "      <td>b'Jordan'</td>\n",
              "      <td>b'no'</td>\n",
              "      <td>5.0</td>\n",
              "      <td>b'4-11 years'</td>\n",
              "      <td>b'Parent'</td>\n",
              "      <td>b'NO'</td>\n",
              "    </tr>\n",
              "    <tr>\n",
              "      <th>1</th>\n",
              "      <td>b'1'</td>\n",
              "      <td>b'1'</td>\n",
              "      <td>b'0'</td>\n",
              "      <td>b'0'</td>\n",
              "      <td>b'1'</td>\n",
              "      <td>b'1'</td>\n",
              "      <td>b'0'</td>\n",
              "      <td>b'1'</td>\n",
              "      <td>b'0'</td>\n",
              "      <td>b'0'</td>\n",
              "      <td>...</td>\n",
              "      <td>1</td>\n",
              "      <td>b'Middle Eastern '</td>\n",
              "      <td>b'no'</td>\n",
              "      <td>b'no'</td>\n",
              "      <td>b'Jordan'</td>\n",
              "      <td>b'no'</td>\n",
              "      <td>5.0</td>\n",
              "      <td>b'4-11 years'</td>\n",
              "      <td>b'Parent'</td>\n",
              "      <td>b'NO'</td>\n",
              "    </tr>\n",
              "    <tr>\n",
              "      <th>2</th>\n",
              "      <td>b'1'</td>\n",
              "      <td>b'1'</td>\n",
              "      <td>b'0'</td>\n",
              "      <td>b'0'</td>\n",
              "      <td>b'0'</td>\n",
              "      <td>b'1'</td>\n",
              "      <td>b'1'</td>\n",
              "      <td>b'1'</td>\n",
              "      <td>b'0'</td>\n",
              "      <td>b'0'</td>\n",
              "      <td>...</td>\n",
              "      <td>1</td>\n",
              "      <td>b'?'</td>\n",
              "      <td>b'no'</td>\n",
              "      <td>b'no'</td>\n",
              "      <td>b'Jordan'</td>\n",
              "      <td>b'yes'</td>\n",
              "      <td>5.0</td>\n",
              "      <td>b'4-11 years'</td>\n",
              "      <td>b'?'</td>\n",
              "      <td>b'NO'</td>\n",
              "    </tr>\n",
              "    <tr>\n",
              "      <th>3</th>\n",
              "      <td>b'0'</td>\n",
              "      <td>b'1'</td>\n",
              "      <td>b'0'</td>\n",
              "      <td>b'0'</td>\n",
              "      <td>b'1'</td>\n",
              "      <td>b'1'</td>\n",
              "      <td>b'0'</td>\n",
              "      <td>b'0'</td>\n",
              "      <td>b'0'</td>\n",
              "      <td>b'1'</td>\n",
              "      <td>...</td>\n",
              "      <td>0</td>\n",
              "      <td>b'?'</td>\n",
              "      <td>b'yes'</td>\n",
              "      <td>b'no'</td>\n",
              "      <td>b'Jordan'</td>\n",
              "      <td>b'no'</td>\n",
              "      <td>4.0</td>\n",
              "      <td>b'4-11 years'</td>\n",
              "      <td>b'?'</td>\n",
              "      <td>b'NO'</td>\n",
              "    </tr>\n",
              "    <tr>\n",
              "      <th>4</th>\n",
              "      <td>b'1'</td>\n",
              "      <td>b'1'</td>\n",
              "      <td>b'1'</td>\n",
              "      <td>b'1'</td>\n",
              "      <td>b'1'</td>\n",
              "      <td>b'1'</td>\n",
              "      <td>b'1'</td>\n",
              "      <td>b'1'</td>\n",
              "      <td>b'1'</td>\n",
              "      <td>b'1'</td>\n",
              "      <td>...</td>\n",
              "      <td>1</td>\n",
              "      <td>b'Others'</td>\n",
              "      <td>b'yes'</td>\n",
              "      <td>b'no'</td>\n",
              "      <td>b'United States'</td>\n",
              "      <td>b'no'</td>\n",
              "      <td>10.0</td>\n",
              "      <td>b'4-11 years'</td>\n",
              "      <td>b'Parent'</td>\n",
              "      <td>b'YES'</td>\n",
              "    </tr>\n",
              "  </tbody>\n",
              "</table>\n",
              "<p>5 rows × 21 columns</p>\n",
              "</div>\n",
              "      <button class=\"colab-df-convert\" onclick=\"convertToInteractive('df-781e8c04-3b5e-4e38-9003-974308fc0ad8')\"\n",
              "              title=\"Convert this dataframe to an interactive table.\"\n",
              "              style=\"display:none;\">\n",
              "        \n",
              "  <svg xmlns=\"http://www.w3.org/2000/svg\" height=\"24px\"viewBox=\"0 0 24 24\"\n",
              "       width=\"24px\">\n",
              "    <path d=\"M0 0h24v24H0V0z\" fill=\"none\"/>\n",
              "    <path d=\"M18.56 5.44l.94 2.06.94-2.06 2.06-.94-2.06-.94-.94-2.06-.94 2.06-2.06.94zm-11 1L8.5 8.5l.94-2.06 2.06-.94-2.06-.94L8.5 2.5l-.94 2.06-2.06.94zm10 10l.94 2.06.94-2.06 2.06-.94-2.06-.94-.94-2.06-.94 2.06-2.06.94z\"/><path d=\"M17.41 7.96l-1.37-1.37c-.4-.4-.92-.59-1.43-.59-.52 0-1.04.2-1.43.59L10.3 9.45l-7.72 7.72c-.78.78-.78 2.05 0 2.83L4 21.41c.39.39.9.59 1.41.59.51 0 1.02-.2 1.41-.59l7.78-7.78 2.81-2.81c.8-.78.8-2.07 0-2.86zM5.41 20L4 18.59l7.72-7.72 1.47 1.35L5.41 20z\"/>\n",
              "  </svg>\n",
              "      </button>\n",
              "      \n",
              "  <style>\n",
              "    .colab-df-container {\n",
              "      display:flex;\n",
              "      flex-wrap:wrap;\n",
              "      gap: 12px;\n",
              "    }\n",
              "\n",
              "    .colab-df-convert {\n",
              "      background-color: #E8F0FE;\n",
              "      border: none;\n",
              "      border-radius: 50%;\n",
              "      cursor: pointer;\n",
              "      display: none;\n",
              "      fill: #1967D2;\n",
              "      height: 32px;\n",
              "      padding: 0 0 0 0;\n",
              "      width: 32px;\n",
              "    }\n",
              "\n",
              "    .colab-df-convert:hover {\n",
              "      background-color: #E2EBFA;\n",
              "      box-shadow: 0px 1px 2px rgba(60, 64, 67, 0.3), 0px 1px 3px 1px rgba(60, 64, 67, 0.15);\n",
              "      fill: #174EA6;\n",
              "    }\n",
              "\n",
              "    [theme=dark] .colab-df-convert {\n",
              "      background-color: #3B4455;\n",
              "      fill: #D2E3FC;\n",
              "    }\n",
              "\n",
              "    [theme=dark] .colab-df-convert:hover {\n",
              "      background-color: #434B5C;\n",
              "      box-shadow: 0px 1px 3px 1px rgba(0, 0, 0, 0.15);\n",
              "      filter: drop-shadow(0px 1px 2px rgba(0, 0, 0, 0.3));\n",
              "      fill: #FFFFFF;\n",
              "    }\n",
              "  </style>\n",
              "\n",
              "      <script>\n",
              "        const buttonEl =\n",
              "          document.querySelector('#df-781e8c04-3b5e-4e38-9003-974308fc0ad8 button.colab-df-convert');\n",
              "        buttonEl.style.display =\n",
              "          google.colab.kernel.accessAllowed ? 'block' : 'none';\n",
              "\n",
              "        async function convertToInteractive(key) {\n",
              "          const element = document.querySelector('#df-781e8c04-3b5e-4e38-9003-974308fc0ad8');\n",
              "          const dataTable =\n",
              "            await google.colab.kernel.invokeFunction('convertToInteractive',\n",
              "                                                     [key], {});\n",
              "          if (!dataTable) return;\n",
              "\n",
              "          const docLinkHtml = 'Like what you see? Visit the ' +\n",
              "            '<a target=\"_blank\" href=https://colab.research.google.com/notebooks/data_table.ipynb>data table notebook</a>'\n",
              "            + ' to learn more about interactive tables.';\n",
              "          element.innerHTML = '';\n",
              "          dataTable['output_type'] = 'display_data';\n",
              "          await google.colab.output.renderOutput(dataTable, element);\n",
              "          const docLink = document.createElement('div');\n",
              "          docLink.innerHTML = docLinkHtml;\n",
              "          element.appendChild(docLink);\n",
              "        }\n",
              "      </script>\n",
              "    </div>\n",
              "  </div>\n",
              "  "
            ]
          },
          "metadata": {},
          "execution_count": 88
        }
      ]
    },
    {
      "cell_type": "code",
      "source": [
        "df['A1_Score'] = le.fit_transform(df['A1_Score'])"
      ],
      "metadata": {
        "id": "ivxcryLkKUeR"
      },
      "execution_count": null,
      "outputs": []
    },
    {
      "cell_type": "code",
      "source": [
        "df['A2_Score'] = le.fit_transform(df['A2_Score'])"
      ],
      "metadata": {
        "id": "ygngAKaVKfaD"
      },
      "execution_count": null,
      "outputs": []
    },
    {
      "cell_type": "code",
      "source": [
        "df['A3_Score'] = le.fit_transform(df['A3_Score'])"
      ],
      "metadata": {
        "id": "CbXM00CnKj7Z"
      },
      "execution_count": null,
      "outputs": []
    },
    {
      "cell_type": "code",
      "source": [
        "df['A4_Score'] = le.fit_transform(df['A4_Score'])"
      ],
      "metadata": {
        "id": "kVfLbYqrKmzT"
      },
      "execution_count": null,
      "outputs": []
    },
    {
      "cell_type": "code",
      "source": [
        "df['A5_Score'] = le.fit_transform(df['A5_Score'])"
      ],
      "metadata": {
        "id": "dPH-VVxMKp-f"
      },
      "execution_count": null,
      "outputs": []
    },
    {
      "cell_type": "code",
      "source": [
        "df['A6_Score'] = le.fit_transform(df['A6_Score'])"
      ],
      "metadata": {
        "id": "yfpE1hkbKsmq"
      },
      "execution_count": null,
      "outputs": []
    },
    {
      "cell_type": "code",
      "source": [
        "df['A7_Score'] = le.fit_transform(df['A7_Score'])"
      ],
      "metadata": {
        "id": "Ti4-eY8HKvky"
      },
      "execution_count": null,
      "outputs": []
    },
    {
      "cell_type": "code",
      "source": [
        "df['A8_Score'] = le.fit_transform(df['A8_Score'])"
      ],
      "metadata": {
        "id": "eOm87T2iKyhX"
      },
      "execution_count": null,
      "outputs": []
    },
    {
      "cell_type": "code",
      "source": [
        "df['A9_Score'] = le.fit_transform(df['A9_Score'])"
      ],
      "metadata": {
        "id": "XCI3pUaLK3U8"
      },
      "execution_count": null,
      "outputs": []
    },
    {
      "cell_type": "code",
      "source": [
        "df['A10_Score'] = le.fit_transform(df['A10_Score'])"
      ],
      "metadata": {
        "id": "A7NHy0EqK6Bj"
      },
      "execution_count": null,
      "outputs": []
    },
    {
      "cell_type": "code",
      "source": [
        "df.info()"
      ],
      "metadata": {
        "colab": {
          "base_uri": "https://localhost:8080/"
        },
        "id": "32lQDLL3LAWt",
        "outputId": "fa1cae52-f71a-4b3c-ef36-d77beee36e7f"
      },
      "execution_count": null,
      "outputs": [
        {
          "output_type": "stream",
          "name": "stdout",
          "text": [
            "<class 'pandas.core.frame.DataFrame'>\n",
            "RangeIndex: 292 entries, 0 to 291\n",
            "Data columns (total 21 columns):\n",
            " #   Column           Non-Null Count  Dtype  \n",
            "---  ------           --------------  -----  \n",
            " 0   A1_Score         292 non-null    int64  \n",
            " 1   A2_Score         292 non-null    int64  \n",
            " 2   A3_Score         292 non-null    int64  \n",
            " 3   A4_Score         292 non-null    int64  \n",
            " 4   A5_Score         292 non-null    int64  \n",
            " 5   A6_Score         292 non-null    int64  \n",
            " 6   A7_Score         292 non-null    int64  \n",
            " 7   A8_Score         292 non-null    int64  \n",
            " 8   A9_Score         292 non-null    int64  \n",
            " 9   A10_Score        292 non-null    int64  \n",
            " 10  age              292 non-null    float64\n",
            " 11  gender           292 non-null    int64  \n",
            " 12  ethnicity        292 non-null    object \n",
            " 13  jundice          292 non-null    object \n",
            " 14  austim           292 non-null    object \n",
            " 15  contry_of_res    292 non-null    object \n",
            " 16  used_app_before  292 non-null    object \n",
            " 17  result           292 non-null    float64\n",
            " 18  age_desc         292 non-null    object \n",
            " 19  relation         292 non-null    object \n",
            " 20  Class/ASD        292 non-null    object \n",
            "dtypes: float64(2), int64(11), object(8)\n",
            "memory usage: 48.0+ KB\n"
          ]
        }
      ]
    },
    {
      "cell_type": "code",
      "source": [
        "df['ethnicity'] = le.fit_transform(df['ethnicity'])"
      ],
      "metadata": {
        "id": "IZqkhazBLE67"
      },
      "execution_count": null,
      "outputs": []
    },
    {
      "cell_type": "code",
      "source": [
        "df['used_app_before'] = le.fit_transform(df['used_app_before'])"
      ],
      "metadata": {
        "id": "WS255tYqLK64"
      },
      "execution_count": null,
      "outputs": []
    },
    {
      "cell_type": "code",
      "source": [
        "df['result'] = le.fit_transform(df['result'])"
      ],
      "metadata": {
        "id": "Viic75P8LTGG"
      },
      "execution_count": null,
      "outputs": []
    },
    {
      "cell_type": "code",
      "source": [
        "df['age_desc'] = le.fit_transform(df['age_desc'])"
      ],
      "metadata": {
        "id": "lT2i5pnlLiqO"
      },
      "execution_count": null,
      "outputs": []
    },
    {
      "cell_type": "code",
      "source": [
        "df['relation'] = le.fit_transform(df['relation'])"
      ],
      "metadata": {
        "id": "48SbHypdLp3q"
      },
      "execution_count": null,
      "outputs": []
    },
    {
      "cell_type": "code",
      "source": [
        "df['Class/ASD'] = le.fit_transform(df['Class/ASD'])"
      ],
      "metadata": {
        "id": "RpNJY-49LzAW"
      },
      "execution_count": null,
      "outputs": []
    },
    {
      "cell_type": "code",
      "source": [
        "df.head()"
      ],
      "metadata": {
        "colab": {
          "base_uri": "https://localhost:8080/",
          "height": 299
        },
        "id": "ZYfrKJF8L6ZO",
        "outputId": "91291178-a3fa-4457-a808-e8cc2c950b2f"
      },
      "execution_count": null,
      "outputs": [
        {
          "output_type": "execute_result",
          "data": {
            "text/plain": [
              "   A1_Score  A2_Score  A3_Score  A4_Score  A5_Score  A6_Score  A7_Score  \\\n",
              "0         1         1         0         0         1         1         0   \n",
              "1         1         1         0         0         1         1         0   \n",
              "2         1         1         0         0         0         1         1   \n",
              "3         0         1         0         0         1         1         0   \n",
              "4         1         1         1         1         1         1         1   \n",
              "\n",
              "   A8_Score  A9_Score  A10_Score  ...  gender  ethnicity  jundice austim  \\\n",
              "0         1         0          0  ...       1          6    b'no'  b'no'   \n",
              "1         1         0          0  ...       1          5    b'no'  b'no'   \n",
              "2         1         0          0  ...       1          0    b'no'  b'no'   \n",
              "3         0         0          1  ...       0          0   b'yes'  b'no'   \n",
              "4         1         1          1  ...       1          6   b'yes'  b'no'   \n",
              "\n",
              "  contry_of_res  used_app_before  result  age_desc   relation Class/ASD  \n",
              "0            24                0       5         0  b'Parent'         0  \n",
              "1            24                0       5         0  b'Parent'         0  \n",
              "2            24                1       5         0       b'?'         0  \n",
              "3            24                0       4         0       b'?'         0  \n",
              "4            51                0      10         0  b'Parent'         1  \n",
              "\n",
              "[5 rows x 21 columns]"
            ],
            "text/html": [
              "\n",
              "  <div id=\"df-a1d6e9fe-49e4-4a62-8330-64333ac6d6c4\">\n",
              "    <div class=\"colab-df-container\">\n",
              "      <div>\n",
              "<style scoped>\n",
              "    .dataframe tbody tr th:only-of-type {\n",
              "        vertical-align: middle;\n",
              "    }\n",
              "\n",
              "    .dataframe tbody tr th {\n",
              "        vertical-align: top;\n",
              "    }\n",
              "\n",
              "    .dataframe thead th {\n",
              "        text-align: right;\n",
              "    }\n",
              "</style>\n",
              "<table border=\"1\" class=\"dataframe\">\n",
              "  <thead>\n",
              "    <tr style=\"text-align: right;\">\n",
              "      <th></th>\n",
              "      <th>A1_Score</th>\n",
              "      <th>A2_Score</th>\n",
              "      <th>A3_Score</th>\n",
              "      <th>A4_Score</th>\n",
              "      <th>A5_Score</th>\n",
              "      <th>A6_Score</th>\n",
              "      <th>A7_Score</th>\n",
              "      <th>A8_Score</th>\n",
              "      <th>A9_Score</th>\n",
              "      <th>A10_Score</th>\n",
              "      <th>...</th>\n",
              "      <th>gender</th>\n",
              "      <th>ethnicity</th>\n",
              "      <th>jundice</th>\n",
              "      <th>austim</th>\n",
              "      <th>contry_of_res</th>\n",
              "      <th>used_app_before</th>\n",
              "      <th>result</th>\n",
              "      <th>age_desc</th>\n",
              "      <th>relation</th>\n",
              "      <th>Class/ASD</th>\n",
              "    </tr>\n",
              "  </thead>\n",
              "  <tbody>\n",
              "    <tr>\n",
              "      <th>0</th>\n",
              "      <td>1</td>\n",
              "      <td>1</td>\n",
              "      <td>0</td>\n",
              "      <td>0</td>\n",
              "      <td>1</td>\n",
              "      <td>1</td>\n",
              "      <td>0</td>\n",
              "      <td>1</td>\n",
              "      <td>0</td>\n",
              "      <td>0</td>\n",
              "      <td>...</td>\n",
              "      <td>1</td>\n",
              "      <td>6</td>\n",
              "      <td>b'no'</td>\n",
              "      <td>b'no'</td>\n",
              "      <td>24</td>\n",
              "      <td>0</td>\n",
              "      <td>5</td>\n",
              "      <td>0</td>\n",
              "      <td>b'Parent'</td>\n",
              "      <td>0</td>\n",
              "    </tr>\n",
              "    <tr>\n",
              "      <th>1</th>\n",
              "      <td>1</td>\n",
              "      <td>1</td>\n",
              "      <td>0</td>\n",
              "      <td>0</td>\n",
              "      <td>1</td>\n",
              "      <td>1</td>\n",
              "      <td>0</td>\n",
              "      <td>1</td>\n",
              "      <td>0</td>\n",
              "      <td>0</td>\n",
              "      <td>...</td>\n",
              "      <td>1</td>\n",
              "      <td>5</td>\n",
              "      <td>b'no'</td>\n",
              "      <td>b'no'</td>\n",
              "      <td>24</td>\n",
              "      <td>0</td>\n",
              "      <td>5</td>\n",
              "      <td>0</td>\n",
              "      <td>b'Parent'</td>\n",
              "      <td>0</td>\n",
              "    </tr>\n",
              "    <tr>\n",
              "      <th>2</th>\n",
              "      <td>1</td>\n",
              "      <td>1</td>\n",
              "      <td>0</td>\n",
              "      <td>0</td>\n",
              "      <td>0</td>\n",
              "      <td>1</td>\n",
              "      <td>1</td>\n",
              "      <td>1</td>\n",
              "      <td>0</td>\n",
              "      <td>0</td>\n",
              "      <td>...</td>\n",
              "      <td>1</td>\n",
              "      <td>0</td>\n",
              "      <td>b'no'</td>\n",
              "      <td>b'no'</td>\n",
              "      <td>24</td>\n",
              "      <td>1</td>\n",
              "      <td>5</td>\n",
              "      <td>0</td>\n",
              "      <td>b'?'</td>\n",
              "      <td>0</td>\n",
              "    </tr>\n",
              "    <tr>\n",
              "      <th>3</th>\n",
              "      <td>0</td>\n",
              "      <td>1</td>\n",
              "      <td>0</td>\n",
              "      <td>0</td>\n",
              "      <td>1</td>\n",
              "      <td>1</td>\n",
              "      <td>0</td>\n",
              "      <td>0</td>\n",
              "      <td>0</td>\n",
              "      <td>1</td>\n",
              "      <td>...</td>\n",
              "      <td>0</td>\n",
              "      <td>0</td>\n",
              "      <td>b'yes'</td>\n",
              "      <td>b'no'</td>\n",
              "      <td>24</td>\n",
              "      <td>0</td>\n",
              "      <td>4</td>\n",
              "      <td>0</td>\n",
              "      <td>b'?'</td>\n",
              "      <td>0</td>\n",
              "    </tr>\n",
              "    <tr>\n",
              "      <th>4</th>\n",
              "      <td>1</td>\n",
              "      <td>1</td>\n",
              "      <td>1</td>\n",
              "      <td>1</td>\n",
              "      <td>1</td>\n",
              "      <td>1</td>\n",
              "      <td>1</td>\n",
              "      <td>1</td>\n",
              "      <td>1</td>\n",
              "      <td>1</td>\n",
              "      <td>...</td>\n",
              "      <td>1</td>\n",
              "      <td>6</td>\n",
              "      <td>b'yes'</td>\n",
              "      <td>b'no'</td>\n",
              "      <td>51</td>\n",
              "      <td>0</td>\n",
              "      <td>10</td>\n",
              "      <td>0</td>\n",
              "      <td>b'Parent'</td>\n",
              "      <td>1</td>\n",
              "    </tr>\n",
              "  </tbody>\n",
              "</table>\n",
              "<p>5 rows × 21 columns</p>\n",
              "</div>\n",
              "      <button class=\"colab-df-convert\" onclick=\"convertToInteractive('df-a1d6e9fe-49e4-4a62-8330-64333ac6d6c4')\"\n",
              "              title=\"Convert this dataframe to an interactive table.\"\n",
              "              style=\"display:none;\">\n",
              "        \n",
              "  <svg xmlns=\"http://www.w3.org/2000/svg\" height=\"24px\"viewBox=\"0 0 24 24\"\n",
              "       width=\"24px\">\n",
              "    <path d=\"M0 0h24v24H0V0z\" fill=\"none\"/>\n",
              "    <path d=\"M18.56 5.44l.94 2.06.94-2.06 2.06-.94-2.06-.94-.94-2.06-.94 2.06-2.06.94zm-11 1L8.5 8.5l.94-2.06 2.06-.94-2.06-.94L8.5 2.5l-.94 2.06-2.06.94zm10 10l.94 2.06.94-2.06 2.06-.94-2.06-.94-.94-2.06-.94 2.06-2.06.94z\"/><path d=\"M17.41 7.96l-1.37-1.37c-.4-.4-.92-.59-1.43-.59-.52 0-1.04.2-1.43.59L10.3 9.45l-7.72 7.72c-.78.78-.78 2.05 0 2.83L4 21.41c.39.39.9.59 1.41.59.51 0 1.02-.2 1.41-.59l7.78-7.78 2.81-2.81c.8-.78.8-2.07 0-2.86zM5.41 20L4 18.59l7.72-7.72 1.47 1.35L5.41 20z\"/>\n",
              "  </svg>\n",
              "      </button>\n",
              "      \n",
              "  <style>\n",
              "    .colab-df-container {\n",
              "      display:flex;\n",
              "      flex-wrap:wrap;\n",
              "      gap: 12px;\n",
              "    }\n",
              "\n",
              "    .colab-df-convert {\n",
              "      background-color: #E8F0FE;\n",
              "      border: none;\n",
              "      border-radius: 50%;\n",
              "      cursor: pointer;\n",
              "      display: none;\n",
              "      fill: #1967D2;\n",
              "      height: 32px;\n",
              "      padding: 0 0 0 0;\n",
              "      width: 32px;\n",
              "    }\n",
              "\n",
              "    .colab-df-convert:hover {\n",
              "      background-color: #E2EBFA;\n",
              "      box-shadow: 0px 1px 2px rgba(60, 64, 67, 0.3), 0px 1px 3px 1px rgba(60, 64, 67, 0.15);\n",
              "      fill: #174EA6;\n",
              "    }\n",
              "\n",
              "    [theme=dark] .colab-df-convert {\n",
              "      background-color: #3B4455;\n",
              "      fill: #D2E3FC;\n",
              "    }\n",
              "\n",
              "    [theme=dark] .colab-df-convert:hover {\n",
              "      background-color: #434B5C;\n",
              "      box-shadow: 0px 1px 3px 1px rgba(0, 0, 0, 0.15);\n",
              "      filter: drop-shadow(0px 1px 2px rgba(0, 0, 0, 0.3));\n",
              "      fill: #FFFFFF;\n",
              "    }\n",
              "  </style>\n",
              "\n",
              "      <script>\n",
              "        const buttonEl =\n",
              "          document.querySelector('#df-a1d6e9fe-49e4-4a62-8330-64333ac6d6c4 button.colab-df-convert');\n",
              "        buttonEl.style.display =\n",
              "          google.colab.kernel.accessAllowed ? 'block' : 'none';\n",
              "\n",
              "        async function convertToInteractive(key) {\n",
              "          const element = document.querySelector('#df-a1d6e9fe-49e4-4a62-8330-64333ac6d6c4');\n",
              "          const dataTable =\n",
              "            await google.colab.kernel.invokeFunction('convertToInteractive',\n",
              "                                                     [key], {});\n",
              "          if (!dataTable) return;\n",
              "\n",
              "          const docLinkHtml = 'Like what you see? Visit the ' +\n",
              "            '<a target=\"_blank\" href=https://colab.research.google.com/notebooks/data_table.ipynb>data table notebook</a>'\n",
              "            + ' to learn more about interactive tables.';\n",
              "          element.innerHTML = '';\n",
              "          dataTable['output_type'] = 'display_data';\n",
              "          await google.colab.output.renderOutput(dataTable, element);\n",
              "          const docLink = document.createElement('div');\n",
              "          docLink.innerHTML = docLinkHtml;\n",
              "          element.appendChild(docLink);\n",
              "        }\n",
              "      </script>\n",
              "    </div>\n",
              "  </div>\n",
              "  "
            ]
          },
          "metadata": {},
          "execution_count": 108
        }
      ]
    },
    {
      "cell_type": "code",
      "source": [
        "df['jundice'] = le.fit_transform(df['jundice'])"
      ],
      "metadata": {
        "id": "6FP5lYieMBMM"
      },
      "execution_count": null,
      "outputs": []
    },
    {
      "cell_type": "code",
      "source": [
        "df['austim'] = le.fit_transform(df['austim'])"
      ],
      "metadata": {
        "id": "vsNIe6zMMPlP"
      },
      "execution_count": null,
      "outputs": []
    },
    {
      "cell_type": "code",
      "source": [
        "df['relation'] = le.fit_transform(df['relation'])"
      ],
      "metadata": {
        "id": "9oWnRpL2MYL_"
      },
      "execution_count": null,
      "outputs": []
    },
    {
      "cell_type": "code",
      "source": [
        "df.info"
      ],
      "metadata": {
        "colab": {
          "base_uri": "https://localhost:8080/"
        },
        "id": "jzLJLg5tMgvi",
        "outputId": "414c3a90-536c-4277-9964-a9c56b88f56d"
      },
      "execution_count": null,
      "outputs": [
        {
          "output_type": "execute_result",
          "data": {
            "text/plain": [
              "<bound method DataFrame.info of      A1_Score  A2_Score  A3_Score  A4_Score  A5_Score  A6_Score  A7_Score  \\\n",
              "0           1         1         0         0         1         1         0   \n",
              "1           1         1         0         0         1         1         0   \n",
              "2           1         1         0         0         0         1         1   \n",
              "3           0         1         0         0         1         1         0   \n",
              "4           1         1         1         1         1         1         1   \n",
              "..        ...       ...       ...       ...       ...       ...       ...   \n",
              "287         1         1         1         1         1         1         1   \n",
              "288         1         0         0         0         1         0         1   \n",
              "289         1         0         1         1         1         1         1   \n",
              "290         1         1         1         0         1         1         1   \n",
              "291         0         0         1         0         1         0         1   \n",
              "\n",
              "     A8_Score  A9_Score  A10_Score  ...  gender  ethnicity  jundice  austim  \\\n",
              "0           1         0          0  ...       1          6        0       0   \n",
              "1           1         0          0  ...       1          5        0       0   \n",
              "2           1         0          0  ...       1          0        0       0   \n",
              "3           0         0          1  ...       0          0        1       0   \n",
              "4           1         1          1  ...       1          6        1       0   \n",
              "..        ...       ...        ...  ...     ...        ...      ...     ...   \n",
              "287         1         1          1  ...       0         10        1       1   \n",
              "288         0         0          1  ...       0         10        1       1   \n",
              "289         0         0          1  ...       1          4        0       0   \n",
              "290         1         1          1  ...       1          8        0       0   \n",
              "291         0         0          0  ...       0          8        0       0   \n",
              "\n",
              "     contry_of_res  used_app_before  result  age_desc  relation  Class/ASD  \n",
              "0               24                0       5         0         2          0  \n",
              "1               24                0       5         0         2          0  \n",
              "2               24                1       5         0         0          0  \n",
              "3               24                0       4         0         0          0  \n",
              "4               51                0      10         0         2          1  \n",
              "..             ...              ...     ...       ...       ...        ...  \n",
              "287             50                0      10         0         2          1  \n",
              "288              3                0       4         0         2          0  \n",
              "289              8                0       7         0         2          1  \n",
              "290             18                0       9         0         2          1  \n",
              "291             18                0       3         0         2          0  \n",
              "\n",
              "[292 rows x 21 columns]>"
            ]
          },
          "metadata": {},
          "execution_count": 112
        }
      ]
    },
    {
      "cell_type": "markdown",
      "source": [
        "Graphical Study of Data"
      ],
      "metadata": {
        "id": "M0GWVA3xY1NG"
      }
    },
    {
      "cell_type": "code",
      "source": [
        "import seaborn as sns"
      ],
      "metadata": {
        "id": "2RJgdm9mSL9f"
      },
      "execution_count": null,
      "outputs": []
    },
    {
      "cell_type": "code",
      "source": [
        "plt.title('Result for children having disease and not having disease')\n",
        "df['Class/ASD'].value_counts().plot(kind = \"pie\",autopct ='%.1f%%',figsize =(10,10),shadow =True)"
      ],
      "metadata": {
        "colab": {
          "base_uri": "https://localhost:8080/",
          "height": 608
        },
        "id": "D1X-9PvFRj4X",
        "outputId": "0683116b-d2fb-49b1-b0a5-df246fd89a5e"
      },
      "execution_count": null,
      "outputs": [
        {
          "output_type": "execute_result",
          "data": {
            "text/plain": [
              "<Axes: title={'center': 'Result for children having disease and not having disease'}, ylabel='Class/ASD'>"
            ]
          },
          "metadata": {},
          "execution_count": 138
        },
        {
          "output_type": "display_data",
          "data": {
            "text/plain": [
              "<Figure size 720x720 with 1 Axes>"
            ],
            "image/png": "[encoded data removed]"
          },
          "metadata": {}
        }
      ]
    },
    {
      "cell_type": "code",
      "source": [
        "plt.title('Output vs age')\n",
        "sns.boxplot(x='Class/ASD',y='age',data=df,palette='rainbow')"
      ],
      "metadata": {
        "colab": {
          "base_uri": "https://localhost:8080/",
          "height": 312
        },
        "id": "B2E2bSUtRj07",
        "outputId": "349121a4-3744-4ca7-86e0-c20663143a09"
      },
      "execution_count": null,
      "outputs": [
        {
          "output_type": "execute_result",
          "data": {
            "text/plain": [
              "<Axes: title={'center': 'Output vs age'}, xlabel='Class/ASD', ylabel='age'>"
            ]
          },
          "metadata": {},
          "execution_count": 139
        },
        {
          "output_type": "display_data",
          "data": {
            "text/plain": [
              "<Figure size 432x288 with 1 Axes>"
            ],
            "image/png": "[encoded data removed]"
          },
          "metadata": {
            "needs_background": "light"
          }
        }
      ]
    },
    {
      "cell_type": "code",
      "source": [
        "plt.title('Gender vs disease')\n",
        "sns.countplot(x=df['gender'],hue=df['Class/ASD'])"
      ],
      "metadata": {
        "colab": {
          "base_uri": "https://localhost:8080/",
          "height": 312
        },
        "id": "hqi4-0h6SSPy",
        "outputId": "7104f418-6a92-4676-8017-b04341d746f9"
      },
      "execution_count": null,
      "outputs": [
        {
          "output_type": "execute_result",
          "data": {
            "text/plain": [
              "<Axes: title={'center': 'Gender vs disease'}, xlabel='gender', ylabel='count'>"
            ]
          },
          "metadata": {},
          "execution_count": 140
        },
        {
          "output_type": "display_data",
          "data": {
            "text/plain": [
              "<Figure size 432x288 with 1 Axes>"
            ],
            "image/png": "[encoded data removed]"
          },
          "metadata": {
            "needs_background": "light"
          }
        }
      ]
    },
    {
      "cell_type": "code",
      "source": [
        "plt.title(\"ethnicity\")\n",
        "df['ethnicity'].value_counts().plot(kind = \"pie\",autopct ='%.1f%%',figsize =(10,10),shadow =True)"
      ],
      "metadata": {
        "colab": {
          "base_uri": "https://localhost:8080/",
          "height": 608
        },
        "id": "fCIOLWfjS12U",
        "outputId": "573938f2-a60e-467e-e2fa-94e1f038f979"
      },
      "execution_count": null,
      "outputs": [
        {
          "output_type": "execute_result",
          "data": {
            "text/plain": [
              "<Axes: title={'center': 'ethnicity'}, ylabel='ethnicity'>"
            ]
          },
          "metadata": {},
          "execution_count": 141
        },
        {
          "output_type": "display_data",
          "data": {
            "text/plain": [
              "<Figure size 720x720 with 1 Axes>"
            ],
            "image/png": "[encoded data removed]"
          },
          "metadata": {}
        }
      ]
    },
    {
      "cell_type": "code",
      "source": [
        "x=df.drop(['relation','used_app_before','Class/ASD'],axis = 1)"
      ],
      "metadata": {
        "id": "hrVO4i5sMiwf"
      },
      "execution_count": null,
      "outputs": []
    },
    {
      "cell_type": "code",
      "source": [
        "y = df['Class/ASD']"
      ],
      "metadata": {
        "id": "P_Ejp1pTMv8_"
      },
      "execution_count": null,
      "outputs": []
    },
    {
      "cell_type": "markdown",
      "source": [
        "Scaling The Data With MinMax Scaler"
      ],
      "metadata": {
        "id": "Brvh9eZ9Y8Fc"
      }
    },
    {
      "cell_type": "code",
      "source": [
        "from sklearn import preprocessing"
      ],
      "metadata": {
        "id": "o66kNibtM2D_"
      },
      "execution_count": null,
      "outputs": []
    },
    {
      "cell_type": "code",
      "source": [
        "import numpy as np"
      ],
      "metadata": {
        "id": "ULkh0r46N8kX"
      },
      "execution_count": null,
      "outputs": []
    },
    {
      "cell_type": "code",
      "source": [
        "X=np.array(x)"
      ],
      "metadata": {
        "id": "5xanb6IoONKp"
      },
      "execution_count": null,
      "outputs": []
    },
    {
      "cell_type": "code",
      "source": [
        "Y=np.array(y)"
      ],
      "metadata": {
        "id": "zK51SxYTPBJ6"
      },
      "execution_count": null,
      "outputs": []
    },
    {
      "cell_type": "code",
      "source": [
        "from sklearn.preprocessing import MinMaxScaler\n",
        "scaler = MinMaxScaler()\n",
        "X_scaled = scaler.fit_transform(X)"
      ],
      "metadata": {
        "id": "Ey8-P0-hUeQ2"
      },
      "execution_count": null,
      "outputs": []
    },
    {
      "cell_type": "markdown",
      "source": [
        "Splitting the data for training and testing"
      ],
      "metadata": {
        "id": "TOhcsEr4ZGiM"
      }
    },
    {
      "cell_type": "code",
      "source": [
        "from sklearn.model_selection import train_test_split"
      ],
      "metadata": {
        "id": "35t0nqeYOP-a"
      },
      "execution_count": null,
      "outputs": []
    },
    {
      "cell_type": "code",
      "source": [
        "X_train,X_test,Y_train,Y_test= train_test_split(X,Y,test_size=0.2,random_state=10)"
      ],
      "metadata": {
        "id": "zp_QYBsJO7YT"
      },
      "execution_count": null,
      "outputs": []
    },
    {
      "cell_type": "markdown",
      "source": [
        "Using Logistic Regression Model"
      ],
      "metadata": {
        "id": "nKDYxGVlZPUp"
      }
    },
    {
      "cell_type": "code",
      "source": [
        "from sklearn.linear_model import LogisticRegression"
      ],
      "metadata": {
        "id": "uZDO7Y2-PM6p"
      },
      "execution_count": null,
      "outputs": []
    },
    {
      "cell_type": "code",
      "source": [
        "LogisticRegression()"
      ],
      "metadata": {
        "colab": {
          "base_uri": "https://localhost:8080/",
          "height": 74
        },
        "id": "rDmRhe6HPSGp",
        "outputId": "e1ba8ead-096c-4ffb-e8ab-67f7bd6be404"
      },
      "execution_count": null,
      "outputs": [
        {
          "output_type": "execute_result",
          "data": {
            "text/plain": [
              "LogisticRegression()"
            ],
            "text/html": [
              "<style>#sk-container-id-5 {color: black;background-color: white;}#sk-container-id-5 pre{padding: 0;}#sk-container-id-5 div.sk-toggleable {background-color: white;}#sk-container-id-5 label.sk-toggleable__label {cursor: pointer;display: block;width: 100%;margin-bottom: 0;padding: 0.3em;box-sizing: border-box;text-align: center;}#sk-container-id-5 label.sk-toggleable__label-arrow:before {content: \"▸\";float: left;margin-right: 0.25em;color: #696969;}#sk-container-id-5 label.sk-toggleable__label-arrow:hover:before {color: black;}#sk-container-id-5 div.sk-estimator:hover label.sk-toggleable__label-arrow:before {color: black;}#sk-container-id-5 div.sk-toggleable__content {max-height: 0;max-width: 0;overflow: hidden;text-align: left;background-color: #f0f8ff;}#sk-container-id-5 div.sk-toggleable__content pre {margin: 0.2em;color: black;border-radius: 0.25em;background-color: #f0f8ff;}#sk-container-id-5 input.sk-toggleable__control:checked~div.sk-toggleable__content {max-height: 200px;max-width: 100%;overflow: auto;}#sk-container-id-5 input.sk-toggleable__control:checked~label.sk-toggleable__label-arrow:before {content: \"▾\";}#sk-container-id-5 div.sk-estimator input.sk-toggleable__control:checked~label.sk-toggleable__label {background-color: #d4ebff;}#sk-container-id-5 div.sk-label input.sk-toggleable__control:checked~label.sk-toggleable__label {background-color: #d4ebff;}#sk-container-id-5 input.sk-hidden--visually {border: 0;clip: rect(1px 1px 1px 1px);clip: rect(1px, 1px, 1px, 1px);height: 1px;margin: -1px;overflow: hidden;padding: 0;position: absolute;width: 1px;}#sk-container-id-5 div.sk-estimator {font-family: monospace;background-color: #f0f8ff;border: 1px dotted black;border-radius: 0.25em;box-sizing: border-box;margin-bottom: 0.5em;}#sk-container-id-5 div.sk-estimator:hover {background-color: #d4ebff;}#sk-container-id-5 div.sk-parallel-item::after {content: \"\";width: 100%;border-bottom: 1px solid gray;flex-grow: 1;}#sk-container-id-5 div.sk-label:hover label.sk-toggleable__label {background-color: #d4ebff;}#sk-container-id-5 div.sk-serial::before {content: \"\";position: absolute;border-left: 1px solid gray;box-sizing: border-box;top: 0;bottom: 0;left: 50%;z-index: 0;}#sk-container-id-5 div.sk-serial {display: flex;flex-direction: column;align-items: center;background-color: white;padding-right: 0.2em;padding-left: 0.2em;position: relative;}#sk-container-id-5 div.sk-item {position: relative;z-index: 1;}#sk-container-id-5 div.sk-parallel {display: flex;align-items: stretch;justify-content: center;background-color: white;position: relative;}#sk-container-id-5 div.sk-item::before, #sk-container-id-5 div.sk-parallel-item::before {content: \"\";position: absolute;border-left: 1px solid gray;box-sizing: border-box;top: 0;bottom: 0;left: 50%;z-index: -1;}#sk-container-id-5 div.sk-parallel-item {display: flex;flex-direction: column;z-index: 1;position: relative;background-color: white;}#sk-container-id-5 div.sk-parallel-item:first-child::after {align-self: flex-end;width: 50%;}#sk-container-id-5 div.sk-parallel-item:last-child::after {align-self: flex-start;width: 50%;}#sk-container-id-5 div.sk-parallel-item:only-child::after {width: 0;}#sk-container-id-5 div.sk-dashed-wrapped {border: 1px dashed gray;margin: 0 0.4em 0.5em 0.4em;box-sizing: border-box;padding-bottom: 0.4em;background-color: white;}#sk-container-id-5 div.sk-label label {font-family: monospace;font-weight: bold;display: inline-block;line-height: 1.2em;}#sk-container-id-5 div.sk-label-container {text-align: center;}#sk-container-id-5 div.sk-container {/* jupyter's `normalize.less` sets `[hidden] { display: none; }` but bootstrap.min.css set `[hidden] { display: none !important; }` so we also need the `!important` here to be able to override the default hidden behavior on the sphinx rendered scikit-learn.org. See: https://github.com/scikit-learn/scikit-learn/issues/21755 */display: inline-block !important;position: relative;}#sk-container-id-5 div.sk-text-repr-fallback {display: none;}</style><div id=\"sk-container-id-5\" class=\"sk-top-container\"><div class=\"sk-text-repr-fallback\"><pre>LogisticRegression()</pre><b>In a Jupyter environment, please rerun this cell to show the HTML representation or trust the notebook. <br />On GitHub, the HTML representation is unable to render, please try loading this page with nbviewer.org.</b></div><div class=\"sk-container\" hidden><div class=\"sk-item\"><div class=\"sk-estimator sk-toggleable\"><input class=\"sk-toggleable__control sk-hidden--visually\" id=\"sk-estimator-id-5\" type=\"checkbox\" checked><label for=\"sk-estimator-id-5\" class=\"sk-toggleable__label sk-toggleable__label-arrow\">LogisticRegression</label><div class=\"sk-toggleable__content\"><pre>LogisticRegression()</pre></div></div></div></div></div>"
            ]
          },
          "metadata": {},
          "execution_count": 147
        }
      ]
    },
    {
      "cell_type": "code",
      "source": [
        "model2 = LogisticRegression()"
      ],
      "metadata": {
        "id": "0AxJk2zKPVCY"
      },
      "execution_count": null,
      "outputs": []
    },
    {
      "cell_type": "code",
      "source": [
        "model2.fit(X_train,Y_train)"
      ],
      "metadata": {
        "colab": {
          "base_uri": "https://localhost:8080/",
          "height": 213
        },
        "id": "--gWrqPlPYTn",
        "outputId": "fbd5b671-5395-4b06-cd7c-5da6bcf4b217"
      },
      "execution_count": null,
      "outputs": [
        {
          "output_type": "stream",
          "name": "stderr",
          "text": [
            "/usr/local/lib/python3.9/dist-packages/sklearn/linear_model/_logistic.py:458: ConvergenceWarning: lbfgs failed to converge (status=1):\n",
            "STOP: TOTAL NO. of ITERATIONS REACHED LIMIT.\n",
            "\n",
            "Increase the number of iterations (max_iter) or scale the data as shown in:\n",
            "    https://scikit-learn.org/stable/modules/preprocessing.html\n",
            "Please also refer to the documentation for alternative solver options:\n",
            "    https://scikit-learn.org/stable/modules/linear_model.html#logistic-regression\n",
            "  n_iter_i = _check_optimize_result(\n"
          ]
        },
        {
          "output_type": "execute_result",
          "data": {
            "text/plain": [
              "LogisticRegression()"
            ],
            "text/html": [
              "<style>#sk-container-id-6 {color: black;background-color: white;}#sk-container-id-6 pre{padding: 0;}#sk-container-id-6 div.sk-toggleable {background-color: white;}#sk-container-id-6 label.sk-toggleable__label {cursor: pointer;display: block;width: 100%;margin-bottom: 0;padding: 0.3em;box-sizing: border-box;text-align: center;}#sk-container-id-6 label.sk-toggleable__label-arrow:before {content: \"▸\";float: left;margin-right: 0.25em;color: #696969;}#sk-container-id-6 label.sk-toggleable__label-arrow:hover:before {color: black;}#sk-container-id-6 div.sk-estimator:hover label.sk-toggleable__label-arrow:before {color: black;}#sk-container-id-6 div.sk-toggleable__content {max-height: 0;max-width: 0;overflow: hidden;text-align: left;background-color: #f0f8ff;}#sk-container-id-6 div.sk-toggleable__content pre {margin: 0.2em;color: black;border-radius: 0.25em;background-color: #f0f8ff;}#sk-container-id-6 input.sk-toggleable__control:checked~div.sk-toggleable__content {max-height: 200px;max-width: 100%;overflow: auto;}#sk-container-id-6 input.sk-toggleable__control:checked~label.sk-toggleable__label-arrow:before {content: \"▾\";}#sk-container-id-6 div.sk-estimator input.sk-toggleable__control:checked~label.sk-toggleable__label {background-color: #d4ebff;}#sk-container-id-6 div.sk-label input.sk-toggleable__control:checked~label.sk-toggleable__label {background-color: #d4ebff;}#sk-container-id-6 input.sk-hidden--visually {border: 0;clip: rect(1px 1px 1px 1px);clip: rect(1px, 1px, 1px, 1px);height: 1px;margin: -1px;overflow: hidden;padding: 0;position: absolute;width: 1px;}#sk-container-id-6 div.sk-estimator {font-family: monospace;background-color: #f0f8ff;border: 1px dotted black;border-radius: 0.25em;box-sizing: border-box;margin-bottom: 0.5em;}#sk-container-id-6 div.sk-estimator:hover {background-color: #d4ebff;}#sk-container-id-6 div.sk-parallel-item::after {content: \"\";width: 100%;border-bottom: 1px solid gray;flex-grow: 1;}#sk-container-id-6 div.sk-label:hover label.sk-toggleable__label {background-color: #d4ebff;}#sk-container-id-6 div.sk-serial::before {content: \"\";position: absolute;border-left: 1px solid gray;box-sizing: border-box;top: 0;bottom: 0;left: 50%;z-index: 0;}#sk-container-id-6 div.sk-serial {display: flex;flex-direction: column;align-items: center;background-color: white;padding-right: 0.2em;padding-left: 0.2em;position: relative;}#sk-container-id-6 div.sk-item {position: relative;z-index: 1;}#sk-container-id-6 div.sk-parallel {display: flex;align-items: stretch;justify-content: center;background-color: white;position: relative;}#sk-container-id-6 div.sk-item::before, #sk-container-id-6 div.sk-parallel-item::before {content: \"\";position: absolute;border-left: 1px solid gray;box-sizing: border-box;top: 0;bottom: 0;left: 50%;z-index: -1;}#sk-container-id-6 div.sk-parallel-item {display: flex;flex-direction: column;z-index: 1;position: relative;background-color: white;}#sk-container-id-6 div.sk-parallel-item:first-child::after {align-self: flex-end;width: 50%;}#sk-container-id-6 div.sk-parallel-item:last-child::after {align-self: flex-start;width: 50%;}#sk-container-id-6 div.sk-parallel-item:only-child::after {width: 0;}#sk-container-id-6 div.sk-dashed-wrapped {border: 1px dashed gray;margin: 0 0.4em 0.5em 0.4em;box-sizing: border-box;padding-bottom: 0.4em;background-color: white;}#sk-container-id-6 div.sk-label label {font-family: monospace;font-weight: bold;display: inline-block;line-height: 1.2em;}#sk-container-id-6 div.sk-label-container {text-align: center;}#sk-container-id-6 div.sk-container {/* jupyter's `normalize.less` sets `[hidden] { display: none; }` but bootstrap.min.css set `[hidden] { display: none !important; }` so we also need the `!important` here to be able to override the default hidden behavior on the sphinx rendered scikit-learn.org. See: https://github.com/scikit-learn/scikit-learn/issues/21755 */display: inline-block !important;position: relative;}#sk-container-id-6 div.sk-text-repr-fallback {display: none;}</style><div id=\"sk-container-id-6\" class=\"sk-top-container\"><div class=\"sk-text-repr-fallback\"><pre>LogisticRegression()</pre><b>In a Jupyter environment, please rerun this cell to show the HTML representation or trust the notebook. <br />On GitHub, the HTML representation is unable to render, please try loading this page with nbviewer.org.</b></div><div class=\"sk-container\" hidden><div class=\"sk-item\"><div class=\"sk-estimator sk-toggleable\"><input class=\"sk-toggleable__control sk-hidden--visually\" id=\"sk-estimator-id-6\" type=\"checkbox\" checked><label for=\"sk-estimator-id-6\" class=\"sk-toggleable__label sk-toggleable__label-arrow\">LogisticRegression</label><div class=\"sk-toggleable__content\"><pre>LogisticRegression()</pre></div></div></div></div></div>"
            ]
          },
          "metadata": {},
          "execution_count": 149
        }
      ]
    },
    {
      "cell_type": "code",
      "source": [
        "LogisticRegressionResult=model2.score(X_test,Y_test)\n"
      ],
      "metadata": {
        "id": "6sXIrfvMPcfF"
      },
      "execution_count": null,
      "outputs": []
    },
    {
      "cell_type": "code",
      "source": [
        "LogisticRegressionResult"
      ],
      "metadata": {
        "colab": {
          "base_uri": "https://localhost:8080/"
        },
        "id": "-T4UR_j-Pjef",
        "outputId": "dfc2f4da-f078-48dd-a38a-f79ac0bb10a5"
      },
      "execution_count": null,
      "outputs": [
        {
          "output_type": "execute_result",
          "data": {
            "text/plain": [
              "1.0"
            ]
          },
          "metadata": {},
          "execution_count": 170
        }
      ]
    },
    {
      "cell_type": "code",
      "source": [
        "LogisticRegressionResult*100"
      ],
      "metadata": {
        "colab": {
          "base_uri": "https://localhost:8080/"
        },
        "id": "mPCX6Q8bPkuB",
        "outputId": "d96d23e4-7593-422a-f7ce-ae05d06dedc3"
      },
      "execution_count": null,
      "outputs": [
        {
          "output_type": "execute_result",
          "data": {
            "text/plain": [
              "100.0"
            ]
          },
          "metadata": {},
          "execution_count": 171
        }
      ]
    },
    {
      "cell_type": "markdown",
      "source": [
        "Using NaiveBayes Classifier"
      ],
      "metadata": {
        "id": "QdbLhoxuZXpp"
      }
    },
    {
      "cell_type": "code",
      "source": [
        "from sklearn.naive_bayes import GaussianNB"
      ],
      "metadata": {
        "id": "AtEdQnsNQlsY"
      },
      "execution_count": null,
      "outputs": []
    },
    {
      "cell_type": "code",
      "source": [
        "classifier = GaussianNB()"
      ],
      "metadata": {
        "id": "1pgdJ3OIU9bH"
      },
      "execution_count": null,
      "outputs": []
    },
    {
      "cell_type": "code",
      "source": [
        "classifier.fit(X_train, Y_train)"
      ],
      "metadata": {
        "colab": {
          "base_uri": "https://localhost:8080/",
          "height": 74
        },
        "id": "7QkmxzbpVAcf",
        "outputId": "72bfd0ed-12d4-4464-ba80-2884d4687f39"
      },
      "execution_count": null,
      "outputs": [
        {
          "output_type": "execute_result",
          "data": {
            "text/plain": [
              "GaussianNB()"
            ],
            "text/html": [
              "<style>#sk-container-id-7 {color: black;background-color: white;}#sk-container-id-7 pre{padding: 0;}#sk-container-id-7 div.sk-toggleable {background-color: white;}#sk-container-id-7 label.sk-toggleable__label {cursor: pointer;display: block;width: 100%;margin-bottom: 0;padding: 0.3em;box-sizing: border-box;text-align: center;}#sk-container-id-7 label.sk-toggleable__label-arrow:before {content: \"▸\";float: left;margin-right: 0.25em;color: #696969;}#sk-container-id-7 label.sk-toggleable__label-arrow:hover:before {color: black;}#sk-container-id-7 div.sk-estimator:hover label.sk-toggleable__label-arrow:before {color: black;}#sk-container-id-7 div.sk-toggleable__content {max-height: 0;max-width: 0;overflow: hidden;text-align: left;background-color: #f0f8ff;}#sk-container-id-7 div.sk-toggleable__content pre {margin: 0.2em;color: black;border-radius: 0.25em;background-color: #f0f8ff;}#sk-container-id-7 input.sk-toggleable__control:checked~div.sk-toggleable__content {max-height: 200px;max-width: 100%;overflow: auto;}#sk-container-id-7 input.sk-toggleable__control:checked~label.sk-toggleable__label-arrow:before {content: \"▾\";}#sk-container-id-7 div.sk-estimator input.sk-toggleable__control:checked~label.sk-toggleable__label {background-color: #d4ebff;}#sk-container-id-7 div.sk-label input.sk-toggleable__control:checked~label.sk-toggleable__label {background-color: #d4ebff;}#sk-container-id-7 input.sk-hidden--visually {border: 0;clip: rect(1px 1px 1px 1px);clip: rect(1px, 1px, 1px, 1px);height: 1px;margin: -1px;overflow: hidden;padding: 0;position: absolute;width: 1px;}#sk-container-id-7 div.sk-estimator {font-family: monospace;background-color: #f0f8ff;border: 1px dotted black;border-radius: 0.25em;box-sizing: border-box;margin-bottom: 0.5em;}#sk-container-id-7 div.sk-estimator:hover {background-color: #d4ebff;}#sk-container-id-7 div.sk-parallel-item::after {content: \"\";width: 100%;border-bottom: 1px solid gray;flex-grow: 1;}#sk-container-id-7 div.sk-label:hover label.sk-toggleable__label {background-color: #d4ebff;}#sk-container-id-7 div.sk-serial::before {content: \"\";position: absolute;border-left: 1px solid gray;box-sizing: border-box;top: 0;bottom: 0;left: 50%;z-index: 0;}#sk-container-id-7 div.sk-serial {display: flex;flex-direction: column;align-items: center;background-color: white;padding-right: 0.2em;padding-left: 0.2em;position: relative;}#sk-container-id-7 div.sk-item {position: relative;z-index: 1;}#sk-container-id-7 div.sk-parallel {display: flex;align-items: stretch;justify-content: center;background-color: white;position: relative;}#sk-container-id-7 div.sk-item::before, #sk-container-id-7 div.sk-parallel-item::before {content: \"\";position: absolute;border-left: 1px solid gray;box-sizing: border-box;top: 0;bottom: 0;left: 50%;z-index: -1;}#sk-container-id-7 div.sk-parallel-item {display: flex;flex-direction: column;z-index: 1;position: relative;background-color: white;}#sk-container-id-7 div.sk-parallel-item:first-child::after {align-self: flex-end;width: 50%;}#sk-container-id-7 div.sk-parallel-item:last-child::after {align-self: flex-start;width: 50%;}#sk-container-id-7 div.sk-parallel-item:only-child::after {width: 0;}#sk-container-id-7 div.sk-dashed-wrapped {border: 1px dashed gray;margin: 0 0.4em 0.5em 0.4em;box-sizing: border-box;padding-bottom: 0.4em;background-color: white;}#sk-container-id-7 div.sk-label label {font-family: monospace;font-weight: bold;display: inline-block;line-height: 1.2em;}#sk-container-id-7 div.sk-label-container {text-align: center;}#sk-container-id-7 div.sk-container {/* jupyter's `normalize.less` sets `[hidden] { display: none; }` but bootstrap.min.css set `[hidden] { display: none !important; }` so we also need the `!important` here to be able to override the default hidden behavior on the sphinx rendered scikit-learn.org. See: https://github.com/scikit-learn/scikit-learn/issues/21755 */display: inline-block !important;position: relative;}#sk-container-id-7 div.sk-text-repr-fallback {display: none;}</style><div id=\"sk-container-id-7\" class=\"sk-top-container\"><div class=\"sk-text-repr-fallback\"><pre>GaussianNB()</pre><b>In a Jupyter environment, please rerun this cell to show the HTML representation or trust the notebook. <br />On GitHub, the HTML representation is unable to render, please try loading this page with nbviewer.org.</b></div><div class=\"sk-container\" hidden><div class=\"sk-item\"><div class=\"sk-estimator sk-toggleable\"><input class=\"sk-toggleable__control sk-hidden--visually\" id=\"sk-estimator-id-7\" type=\"checkbox\" checked><label for=\"sk-estimator-id-7\" class=\"sk-toggleable__label sk-toggleable__label-arrow\">GaussianNB</label><div class=\"sk-toggleable__content\"><pre>GaussianNB()</pre></div></div></div></div></div>"
            ]
          },
          "metadata": {},
          "execution_count": 156
        }
      ]
    },
    {
      "cell_type": "code",
      "source": [
        "y_pred = classifier.predict(X_test)"
      ],
      "metadata": {
        "id": "l0HFzzAnVGPp"
      },
      "execution_count": null,
      "outputs": []
    },
    {
      "cell_type": "code",
      "source": [
        "y_pred"
      ],
      "metadata": {
        "colab": {
          "base_uri": "https://localhost:8080/"
        },
        "id": "MgZYe8goVLfH",
        "outputId": "83603090-7a59-4dfb-a1f5-42bfff060671"
      },
      "execution_count": null,
      "outputs": [
        {
          "output_type": "execute_result",
          "data": {
            "text/plain": [
              "array([0, 1, 1, 1, 1, 0, 1, 1, 1, 1, 0, 1, 1, 0, 1, 0, 0, 0, 1, 0, 1, 0,\n",
              "       1, 1, 0, 0, 1, 0, 0, 1, 0, 1, 1, 0, 0, 1, 1, 0, 0, 0, 1, 0, 0, 0,\n",
              "       0, 0, 1, 1, 1, 0, 0, 0, 0, 1, 1, 0, 1, 0, 0])"
            ]
          },
          "metadata": {},
          "execution_count": 158
        }
      ]
    },
    {
      "cell_type": "code",
      "source": [
        "result = pd.DataFrame({'Actual':Y_test, 'Predicted':y_pred})"
      ],
      "metadata": {
        "id": "E5A9JL3aVOvh"
      },
      "execution_count": null,
      "outputs": []
    },
    {
      "cell_type": "code",
      "source": [
        "from sklearn.metrics import accuracy_score, confusion_matrix\n",
        "from sklearn.metrics import classification_report"
      ],
      "metadata": {
        "id": "C7YKQhgBVZN4"
      },
      "execution_count": null,
      "outputs": []
    },
    {
      "cell_type": "code",
      "source": [
        "print('Confusion Matrix\\n', confusion_matrix(Y_test, y_pred))"
      ],
      "metadata": {
        "colab": {
          "base_uri": "https://localhost:8080/"
        },
        "id": "3bik1BIuVhdk",
        "outputId": "3e8e389f-cebf-422d-d81f-015149159a81"
      },
      "execution_count": null,
      "outputs": [
        {
          "output_type": "stream",
          "name": "stdout",
          "text": [
            "Confusion Matrix\n",
            " [[27  0]\n",
            " [ 4 28]]\n"
          ]
        }
      ]
    },
    {
      "cell_type": "code",
      "source": [
        "print('Classification Report\\n', classification_report(Y_test, y_pred))"
      ],
      "metadata": {
        "colab": {
          "base_uri": "https://localhost:8080/"
        },
        "id": "qL_ms6QsVmlM",
        "outputId": "ae2e2c4c-f06d-4631-8d38-c9b174915994"
      },
      "execution_count": null,
      "outputs": [
        {
          "output_type": "stream",
          "name": "stdout",
          "text": [
            "Classification Report\n",
            "               precision    recall  f1-score   support\n",
            "\n",
            "           0       0.87      1.00      0.93        27\n",
            "           1       1.00      0.88      0.93        32\n",
            "\n",
            "    accuracy                           0.93        59\n",
            "   macro avg       0.94      0.94      0.93        59\n",
            "weighted avg       0.94      0.93      0.93        59\n",
            "\n"
          ]
        }
      ]
    },
    {
      "cell_type": "code",
      "source": [
        "print('Accuracy:\\n', accuracy_score(Y_test, y_pred)*100)"
      ],
      "metadata": {
        "colab": {
          "base_uri": "https://localhost:8080/"
        },
        "id": "Uy8lauW3V8Fb",
        "outputId": "8fc79b3f-a0e1-47f1-e198-18232e1c1732"
      },
      "execution_count": null,
      "outputs": [
        {
          "output_type": "stream",
          "name": "stdout",
          "text": [
            "Accuracy:\n",
            " 93.22033898305084\n"
          ]
        }
      ]
    },
    {
      "cell_type": "markdown",
      "source": [
        "Using Ada Boost"
      ],
      "metadata": {
        "id": "qVvZRn23ZjM4"
      }
    },
    {
      "cell_type": "code",
      "source": [
        "from sklearn.ensemble import AdaBoostClassifier"
      ],
      "metadata": {
        "id": "RyYiLT0NV-jt"
      },
      "execution_count": null,
      "outputs": []
    },
    {
      "cell_type": "code",
      "source": [
        "adb = AdaBoostClassifier(classifier, \n",
        "                        n_estimators=10, \n",
        "                        random_state=0)"
      ],
      "metadata": {
        "id": "gAYyw_ntWDid"
      },
      "execution_count": null,
      "outputs": []
    },
    {
      "cell_type": "code",
      "source": [
        "adb.fit(X_train, Y_train)\n",
        "y_pred = adb.predict(X_test)"
      ],
      "metadata": {
        "id": "JJ5hedt8WHc-"
      },
      "execution_count": null,
      "outputs": []
    },
    {
      "cell_type": "code",
      "source": [
        "print('Accuracy:\\n', accuracy_score(y_test, y_pred)*100)"
      ],
      "metadata": {
        "colab": {
          "base_uri": "https://localhost:8080/"
        },
        "id": "X5KzAxnIWMGj",
        "outputId": "bbb45635-046e-47a6-c630-5b4aab9b6cb7"
      },
      "execution_count": null,
      "outputs": [
        {
          "output_type": "stream",
          "name": "stdout",
          "text": [
            "Accuracy:\n",
            " 47.45762711864407\n"
          ]
        }
      ]
    },
    {
      "cell_type": "markdown",
      "source": [
        "Achieving 100% accuracy"
      ],
      "metadata": {
        "id": "DY9lVEVcZqQo"
      }
    },
    {
      "cell_type": "code",
      "source": [
        "#we get maximum accuracy using logistic regression that is 100 %"
      ],
      "metadata": {
        "id": "hKPUkyYcWPpZ"
      },
      "execution_count": null,
      "outputs": []
    },
    {
      "cell_type": "code",
      "source": [
        "LogisticRegressionResult*100"
      ],
      "metadata": {
        "colab": {
          "base_uri": "https://localhost:8080/"
        },
        "id": "2L4qCJk3WiGC",
        "outputId": "b25af0fa-5333-4500-e708-c9ad3f320518"
      },
      "execution_count": null,
      "outputs": [
        {
          "output_type": "execute_result",
          "data": {
            "text/plain": [
              "100.0"
            ]
          },
          "metadata": {},
          "execution_count": 172
        }
      ]
    },
    {
      "cell_type": "code",
      "source": [],
      "metadata": {
        "id": "_aBWT11eW-8H"
      },
      "execution_count": null,
      "outputs": []
    }
  ],
  "metadata": {
    "colab": {
      "provenance": [],
      "toc_visible": true,
      "name": "Autism_Spectrum.ipynb",
      "authorship_tag": "ABX9TyPwNobTSsT8vgaYVxFMukdP",
      "include_colab_link": true
    },
    "kernelspec": {
      "display_name": "Python 3",
      "name": "python3"
    },
    "language_info": {
      "name": "python"
    }
  },
  "nbformat": 4,
  "nbformat_minor": 0
}